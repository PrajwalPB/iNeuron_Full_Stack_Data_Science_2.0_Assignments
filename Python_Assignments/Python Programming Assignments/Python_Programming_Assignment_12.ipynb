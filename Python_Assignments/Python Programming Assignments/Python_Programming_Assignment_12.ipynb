{
 "cells": [
  {
   "cell_type": "markdown",
   "id": "63d1cf7a",
   "metadata": {},
   "source": [
    "1. Write a Python program to Extract Unique values dictionary values?"
   ]
  },
  {
   "cell_type": "code",
   "execution_count": 7,
   "id": "ff975cd5",
   "metadata": {},
   "outputs": [
    {
     "name": "stdout",
     "output_type": "stream",
     "text": [
      "Enter the size\n",
      "5\n",
      "Ente the Name :\n",
      "p\n",
      "Enter the roll no :\n",
      "1\n",
      "Ente the Name :\n",
      "f\n",
      "Enter the roll no :\n",
      "3\n",
      "Ente the Name :\n",
      "g\n",
      "Enter the roll no :\n",
      "3\n",
      "Ente the Name :\n",
      "k\n",
      "Enter the roll no :\n",
      "5\n",
      "Ente the Name :\n",
      "k\n",
      "Enter the roll no :\n",
      "5\n",
      "Dictionary is  {'p': 1, 'f': 3, 'g': 3, 'k': 5}\n",
      "Unique values in Dict is {1, 3, 5}\n"
     ]
    }
   ],
   "source": [
    "d = {}\n",
    "size = int(input(\"Enter the size\\n\"))\n",
    "for i in range(0,size):\n",
    "    name = input(\"Ente the Name :\\n\")\n",
    "    roll_no = int(input(\"Enter the roll no :\\n\"))\n",
    "    d[name] = roll_no\n",
    "print(\"Dictionary is \",d)\n",
    "unique_value = set(d.values())\n",
    "print(\"Unique values in Dict is\",unique_value)"
   ]
  },
  {
   "cell_type": "markdown",
   "id": "cf95c3b2",
   "metadata": {},
   "source": [
    "2. Write a Python program to find the sum of all items in a dictionary?"
   ]
  },
  {
   "cell_type": "code",
   "execution_count": 10,
   "id": "5ab1f79a",
   "metadata": {},
   "outputs": [
    {
     "name": "stdout",
     "output_type": "stream",
     "text": [
      "sum of all items is :  99\n"
     ]
    }
   ],
   "source": [
    "d1 = {'p':12,'j':20,'h':23,'f':44}\n",
    "summ = 0\n",
    "for i in d1.values():\n",
    "    summ = summ + i\n",
    "print(\"sum of all items is : \",summ)"
   ]
  },
  {
   "cell_type": "markdown",
   "id": "56f1ac9a",
   "metadata": {},
   "source": [
    "3. Write a Python program to Merging two Dictionaries?"
   ]
  },
  {
   "cell_type": "code",
   "execution_count": 12,
   "id": "67b46765",
   "metadata": {},
   "outputs": [
    {
     "name": "stdout",
     "output_type": "stream",
     "text": [
      "Merged Dictionary is  {'p': 12, 'j': 20, 'h': 23, 'f': 44, 'hello': 23, 'world': 33}\n"
     ]
    }
   ],
   "source": [
    "d3 = {'p':12,'j':20,'h':23,'f':44}\n",
    "d4 = {'hello':23,'world':33}\n",
    "d3.update(d4)\n",
    "print(\"Merged Dictionary is \",d3)\n"
   ]
  },
  {
   "cell_type": "markdown",
   "id": "40865a0a",
   "metadata": {},
   "source": [
    "4. Write a Python program to convert key-values list to flat dictionary?"
   ]
  },
  {
   "cell_type": "code",
   "execution_count": 13,
   "id": "73ceab57",
   "metadata": {},
   "outputs": [
    {
     "name": "stdout",
     "output_type": "stream",
     "text": [
      "Original dictionary:  {'day': [1, 2, 3], 'name': ['Mon', 'Tues', 'Wed']}\n",
      "FLATTENED DICTIONARY:  {1: 'Mon', 2: 'Tues', 3: 'Wed'}\n"
     ]
    }
   ],
   "source": [
    "dic= { \"day\": [1, 2, 3], \"name\": ['Mon', 'Tues', 'Wed' ] }\n",
    "print(\"Original dictionary: \",dic)\n",
    "f_dic= dict(zip(dic[\"day\"], dic[\"name\"]))\n",
    "print(\"FLATTENED DICTIONARY: \", f_dic)"
   ]
  },
  {
   "cell_type": "markdown",
   "id": "5bbecceb",
   "metadata": {},
   "source": [
    "5. Write a Python program to insertion at the beginning in OrderedDict?"
   ]
  },
  {
   "cell_type": "code",
   "execution_count": 17,
   "id": "38713a0c",
   "metadata": {},
   "outputs": [
    {
     "name": "stdout",
     "output_type": "stream",
     "text": [
      "Dictionary is  :\n",
      "OrderedDict([('beginning', '0'), ('prajwal', '1'), ('pv', '2'), ('hello', '3')])\n"
     ]
    }
   ],
   "source": [
    "from collections import OrderedDict\n",
    "\n",
    "dic5 = OrderedDict([('prajwal', '1'), ('pv', '2'), ('hello', '3')])\n",
    "insert_begg = OrderedDict([(\"beginning\", '0')])\n",
    "final = OrderedDict(list(insert_begg.items()) + list(dic5.items()))\n",
    "print (\"Dictionary is  :\")\n",
    "print(final)"
   ]
  },
  {
   "cell_type": "markdown",
   "id": "b7295a1d",
   "metadata": {},
   "source": [
    "6. Write a Python program to check order of character in string using OrderedDict()?"
   ]
  },
  {
   "cell_type": "code",
   "execution_count": 29,
   "id": "01448bb3",
   "metadata": {},
   "outputs": [
    {
     "data": {
      "text/plain": [
       "True"
      ]
     },
     "execution_count": 29,
     "metadata": {},
     "output_type": "execute_result"
    }
   ],
   "source": [
    "from collections import OrderedDict\n",
    "def check(string, pattern):\n",
    "    dic = OrderedDict.fromkeys(string)\n",
    "    pointer = 0\n",
    "    for key,value in dic.items():\n",
    "        if(key == pattern[pointer]):\n",
    "            pointer = pointer + 1\n",
    "        if(pointer == (len(pattern))):\n",
    "            return True\n",
    "    return False\n",
    "        \n",
    "string2= 'hello'\n",
    "pattern2= 'el'\n",
    "check(string,pattern)"
   ]
  },
  {
   "cell_type": "markdown",
   "id": "67bae464",
   "metadata": {},
   "source": [
    "7. Write a Python program to sort Python Dictionaries by Key or Value?"
   ]
  },
  {
   "cell_type": "code",
   "execution_count": 58,
   "id": "176a9919",
   "metadata": {},
   "outputs": [
    {
     "name": "stdout",
     "output_type": "stream",
     "text": [
      "dict sorted base on keys\n",
      "\n",
      "a:44\n",
      "g:12\n",
      "h:33\n",
      "dict sorted based on the values\n",
      "\n",
      "{'g': 12, 'h': 33, 'a': 44}\n"
     ]
    }
   ],
   "source": [
    "def sort_keys(d):\n",
    "    print(\"dict sorted base on keys\\n\")\n",
    "    for i in sorted(d):   \n",
    "        print(i,d[i],sep=':')\n",
    "        \n",
    "def sort_values(d):\n",
    "    print(\"dict sorted based on the values\\n\")\n",
    "    sorted_dt = {key: value for key, value in sorted(d.items(), key=lambda item: item[1])}\n",
    "    print(sorted_dt)\n",
    "    \n",
    "\n",
    "di = {'g':12,'h':33,'a':44}\n",
    "sort_keys(di)\n",
    "sort_values(di)"
   ]
  }
 ],
 "metadata": {
  "kernelspec": {
   "display_name": "Python 3 (ipykernel)",
   "language": "python",
   "name": "python3"
  },
  "language_info": {
   "codemirror_mode": {
    "name": "ipython",
    "version": 3
   },
   "file_extension": ".py",
   "mimetype": "text/x-python",
   "name": "python",
   "nbconvert_exporter": "python",
   "pygments_lexer": "ipython3",
   "version": "3.9.13"
  }
 },
 "nbformat": 4,
 "nbformat_minor": 5
}
