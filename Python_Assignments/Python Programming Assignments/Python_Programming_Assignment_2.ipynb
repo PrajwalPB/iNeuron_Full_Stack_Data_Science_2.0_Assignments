{
 "cells": [
  {
   "cell_type": "markdown",
   "id": "6faa464a",
   "metadata": {},
   "source": [
    "1. Write a Python program to convert kilometers to miles?"
   ]
  },
  {
   "cell_type": "code",
   "execution_count": 1,
   "id": "70cab065",
   "metadata": {},
   "outputs": [
    {
     "name": "stdout",
     "output_type": "stream",
     "text": [
      "Enter the value in kilometer\n",
      "3\n",
      "The value is 1.8641135699999998 mile\n"
     ]
    }
   ],
   "source": [
    "def convert_kilo_to_miles():\n",
    "    x = int(input('Enter the value in kilometer\\n'))\n",
    "    #1 km = 0.62137119 miles.\n",
    "    y = 0.62137119\n",
    "    miles = x * y\n",
    "    return miles\n",
    "\n",
    "def start():\n",
    "    miles = convert_kilo_to_miles()\n",
    "    print(f'The value is {miles} miles')\n",
    "start()"
   ]
  },
  {
   "cell_type": "markdown",
   "id": "a3b184cd",
   "metadata": {},
   "source": [
    "2. Write a Python program to convert Celsius to Fahrenheit?"
   ]
  },
  {
   "cell_type": "code",
   "execution_count": 2,
   "id": "755d1af1",
   "metadata": {},
   "outputs": [
    {
     "name": "stdout",
     "output_type": "stream",
     "text": [
      "Enter the temerautre in celcius\n",
      "37\n",
      "The value 37celcius is98.60000000000001Farenheit\n"
     ]
    }
   ],
   "source": [
    "def calculate_far(celcius):\n",
    "    far = (celcius*1.8) + 32\n",
    "    return far\n",
    "def start():\n",
    "    celcius = int(input('Enter the temerautre in celcius\\n'))\n",
    "    far = calculate_far(celcius)\n",
    "    print(f'The value {celcius}celcius is{far}Farenheit')\n",
    "start()"
   ]
  },
  {
   "cell_type": "markdown",
   "id": "be8723ea",
   "metadata": {},
   "source": [
    "3. Write a Python program to display calendar?"
   ]
  },
  {
   "cell_type": "code",
   "execution_count": 7,
   "id": "9181caf5",
   "metadata": {},
   "outputs": [
    {
     "name": "stdout",
     "output_type": "stream",
     "text": [
      "Enter the month\n",
      "4\n",
      "Enter the year\n",
      "2020\n",
      "     April 2020\n",
      "Mo Tu We Th Fr Sa Su\n",
      "       1  2  3  4  5\n",
      " 6  7  8  9 10 11 12\n",
      "13 14 15 16 17 18 19\n",
      "20 21 22 23 24 25 26\n",
      "27 28 29 30\n",
      "\n"
     ]
    }
   ],
   "source": [
    "import calendar\n",
    "def dispay_cal():\n",
    "    month = int(input(\"Enter the month\\n\"))\n",
    "    year = int(input(\"Enter the year\\n\"))\n",
    "    print(calendar.month(year,month))\n",
    "dispay_cal()"
   ]
  },
  {
   "cell_type": "markdown",
   "id": "de01fa0d",
   "metadata": {},
   "source": [
    "4. Write a Python program to solve quadratic equation?"
   ]
  },
  {
   "cell_type": "code",
   "execution_count": 1,
   "id": "fd75bb96",
   "metadata": {},
   "outputs": [
    {
     "name": "stdout",
     "output_type": "stream",
     "text": [
      "Enter a\n",
      "2\n",
      "Enter b\n",
      "9\n",
      "Enter c\n",
      "-5\n",
      "0.5\n",
      "-5.0\n",
      "0.5 -5.0\n",
      "0.0 0.0\n",
      "yes\n"
     ]
    }
   ],
   "source": [
    "import math\n",
    "a = int(input('Enter a\\n'))\n",
    "b = int(input(\"Enter b\\n\"))\n",
    "c = int(input(\"Enter c\\n\"))\n",
    "def roots():\n",
    "    x = -b + math.isqrt((b**2 - (4*a*c)))\n",
    "    x = x/(2*a)\n",
    "    x1 = -b - math.isqrt((b**2 - (4*a*c)))/2*a\n",
    "    x1 = x1/(2*a)\n",
    "    print(x)\n",
    "    print(x1)\n",
    "    check_roots(x,x1)\n",
    "    \n",
    "def check_roots(x,x1):\n",
    "    print(x,x1)\n",
    "    r1 = (a*(x**2))+ (b*x) +c\n",
    "    r2 = a*(x1**2)+ b*x1 +c\n",
    "    print(r1,r2)\n",
    "    if(r1==0 and r2==0):\n",
    "        print(\"yes,satisfy\")\n",
    "    else:\n",
    "        print(\"no\")\n",
    "roots()"
   ]
  },
  {
   "cell_type": "markdown",
   "id": "b77749c6",
   "metadata": {},
   "source": [
    "5. Write a Python program to swap two variables without temp variable?"
   ]
  },
  {
   "cell_type": "code",
   "execution_count": 12,
   "id": "07cc56c4",
   "metadata": {},
   "outputs": [
    {
     "name": "stdout",
     "output_type": "stream",
     "text": [
      "Enter the value of x\n",
      "10\n",
      "Enter the value of y\n",
      "20\n",
      "Before swap value of x= 10 value of y= 20\n",
      "After swapping x =20 and y = 10\n"
     ]
    }
   ],
   "source": [
    "def swap():\n",
    "    x = int(input(\"Enter the value of x\\n\"))\n",
    "    y = int(input(\"Enter the value of y\\n\"))\n",
    "    print(\"Before swap value of x=\",x,\"value of y=\",y)\n",
    "    x = x+y\n",
    "    y = x-y\n",
    "    x = x-y\n",
    "    print(f\"After swapping x ={x} and y = {y}\")\n",
    "swap()"
   ]
  }
 ],
 "metadata": {
  "kernelspec": {
   "display_name": "Python 3 (ipykernel)",
   "language": "python",
   "name": "python3"
  },
  "language_info": {
   "codemirror_mode": {
    "name": "ipython",
    "version": 3
   },
   "file_extension": ".py",
   "mimetype": "text/x-python",
   "name": "python",
   "nbconvert_exporter": "python",
   "pygments_lexer": "ipython3",
   "version": "3.9.13"
  }
 },
 "nbformat": 4,
 "nbformat_minor": 5
}
