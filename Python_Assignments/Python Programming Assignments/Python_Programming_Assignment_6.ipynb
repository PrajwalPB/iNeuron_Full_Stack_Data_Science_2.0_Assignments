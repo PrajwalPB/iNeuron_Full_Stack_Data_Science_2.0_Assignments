{
 "cells": [
  {
   "cell_type": "markdown",
   "id": "9cc15698",
   "metadata": {},
   "source": [
    "1. Write a Python Program to Display Fibonacci Sequence Using Recursion?"
   ]
  },
  {
   "cell_type": "code",
   "execution_count": 2,
   "id": "1cd99faf",
   "metadata": {},
   "outputs": [
    {
     "name": "stdout",
     "output_type": "stream",
     "text": [
      "Enter the NUmber\n",
      "10\n",
      "0\n",
      "1\n",
      "1\n",
      "2\n",
      "3\n",
      "5\n",
      "8\n",
      "13\n",
      "21\n",
      "34\n"
     ]
    }
   ],
   "source": [
    "def recurr(n):\n",
    "    if n <= 1:\n",
    "        return n\n",
    "    else:\n",
    "        return(recurr(n-1) + recurr(n-2))\n",
    "    \n",
    "def num():\n",
    "    number = int(input(\"Enter the NUmber\\n\"))\n",
    "    for i in range(number):\n",
    "        print(recurr(i))\n",
    "num()"
   ]
  },
  {
   "cell_type": "markdown",
   "id": "63e54341",
   "metadata": {},
   "source": [
    "2. Write a Python Program to Find Factorial of Number Using Recursion?"
   ]
  },
  {
   "cell_type": "code",
   "execution_count": 5,
   "id": "a6f2775f",
   "metadata": {},
   "outputs": [
    {
     "data": {
      "text/plain": [
       "120"
      ]
     },
     "execution_count": 5,
     "metadata": {},
     "output_type": "execute_result"
    }
   ],
   "source": [
    "def factorial(n):\n",
    "    if n == 1:\n",
    "        return n\n",
    "    else:\n",
    "        return n * factorial(n-1)\n",
    "number = 5\n",
    "factorial(number)"
   ]
  },
  {
   "cell_type": "markdown",
   "id": "855725df",
   "metadata": {},
   "source": [
    "3. Write a Python Program to calculate your Body Mass Index?"
   ]
  },
  {
   "cell_type": "code",
   "execution_count": 10,
   "id": "5def2ec9",
   "metadata": {},
   "outputs": [
    {
     "name": "stdout",
     "output_type": "stream",
     "text": [
      "Enter the weight in kg\n",
      "68\n",
      "Enter the height in meteres\n",
      "1.54\n",
      "BMI is  28.67262607522348\n"
     ]
    }
   ],
   "source": [
    "def bmi():\n",
    "    weight = float(input(\"Enter the weight in kg\\n\"))\n",
    "    height = float(input(\"Enter the height in meteres\\n\"))\n",
    "    if(weight >= 0) and (height <= 0):\n",
    "        print(\"Height and Weight Cannot be Zero\")\n",
    "    else:\n",
    "        bmi = weight/(height**2)\n",
    "    print(\"BMI is \" , bmi)\n",
    "\n",
    "    \n",
    "bmi()"
   ]
  },
  {
   "cell_type": "markdown",
   "id": "48e1af6e",
   "metadata": {},
   "source": [
    "4. Write a Python Program to calculate the natural logarithm of any number?"
   ]
  },
  {
   "cell_type": "code",
   "execution_count": 12,
   "id": "0575b8f8",
   "metadata": {},
   "outputs": [],
   "source": [
    "import numpy as np"
   ]
  },
  {
   "cell_type": "code",
   "execution_count": 14,
   "id": "0b0b4069",
   "metadata": {},
   "outputs": [
    {
     "name": "stdout",
     "output_type": "stream",
     "text": [
      "Enter the number\n",
      "12\n",
      "log is  2.4849066497880004\n"
     ]
    }
   ],
   "source": [
    "num = int(input(\"Enter the number\\n\"))\n",
    "log_num = np.log(num)\n",
    "print(\"log is \" , log_num)"
   ]
  },
  {
   "cell_type": "markdown",
   "id": "96efc229",
   "metadata": {},
   "source": [
    "5. Write a Python Program for cube sum of first n natural numbers?"
   ]
  }
 ],
 "metadata": {
  "kernelspec": {
   "display_name": "Python 3 (ipykernel)",
   "language": "python",
   "name": "python3"
  },
  "language_info": {
   "codemirror_mode": {
    "name": "ipython",
    "version": 3
   },
   "file_extension": ".py",
   "mimetype": "text/x-python",
   "name": "python",
   "nbconvert_exporter": "python",
   "pygments_lexer": "ipython3",
   "version": "3.9.13"
  }
 },
 "nbformat": 4,
 "nbformat_minor": 5
}
