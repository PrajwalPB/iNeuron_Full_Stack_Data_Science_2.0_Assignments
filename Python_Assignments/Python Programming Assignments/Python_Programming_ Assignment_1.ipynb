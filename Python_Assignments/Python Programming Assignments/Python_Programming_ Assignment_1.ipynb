{
 "cells": [
  {
   "cell_type": "markdown",
   "id": "bc33f942",
   "metadata": {},
   "source": [
    "1. Write a Python program to print &quot;Hello Python&quot;?"
   ]
  },
  {
   "cell_type": "code",
   "execution_count": 1,
   "id": "939b347b",
   "metadata": {},
   "outputs": [
    {
     "name": "stdout",
     "output_type": "stream",
     "text": [
      "\"Hello Python\"\n"
     ]
    }
   ],
   "source": [
    "def print_hello():\n",
    "    print('\"Hello Python\"')\n",
    "print_hello()"
   ]
  },
  {
   "cell_type": "markdown",
   "id": "b043853e",
   "metadata": {},
   "source": [
    "2. Write a Python program to do arithmetical operations addition and division.?"
   ]
  },
  {
   "cell_type": "code",
   "execution_count": 3,
   "id": "437073a8",
   "metadata": {},
   "outputs": [
    {
     "name": "stdout",
     "output_type": "stream",
     "text": [
      "Enter the num 1\n",
      "12\n",
      "Enter the num 2\n",
      "4\n",
      "Addition is 16\n",
      "Division is 3.0\n"
     ]
    }
   ],
   "source": [
    "def addition(n1,n2):\n",
    "    n3 = n1+n2\n",
    "    print(f'Addition is {n3}')\n",
    "    \n",
    "def division(n1,n2):\n",
    "    n3 = n1/n2\n",
    "    print(f'Division is {n3}')\n",
    "\n",
    "def start():\n",
    "    n1 = int(input(\"Enter the num 1\\n\"))\n",
    "    n2 = int(input(\"Enter the num 2\\n\"))\n",
    "    addition(n1,n2)\n",
    "    division(n1,n2)\n",
    "    \n",
    "start()"
   ]
  },
  {
   "cell_type": "markdown",
   "id": "f9dfc57f",
   "metadata": {},
   "source": [
    "3. Write a Python program to find the area of a triangle?"
   ]
  },
  {
   "cell_type": "code",
   "execution_count": 4,
   "id": "6de85cd5",
   "metadata": {},
   "outputs": [
    {
     "name": "stdout",
     "output_type": "stream",
     "text": [
      "Enter the base\n",
      "12\n",
      "Enter the height\n",
      "12\n",
      "Area of triangle is72.0\n"
     ]
    }
   ],
   "source": [
    "def area():\n",
    "    base = int(input(\"Enter the base\\n\"))\n",
    "    height = int(input(\"Enter the height\\n\"))\n",
    "    area_triangle = 0.5*base*height\n",
    "    print(f'Area of triangle is {area_triangle}')\n",
    "area()"
   ]
  },
  {
   "cell_type": "markdown",
   "id": "3795a6b4",
   "metadata": {},
   "source": [
    "4. Write a Python program to swap two variables?"
   ]
  },
  {
   "cell_type": "code",
   "execution_count": 6,
   "id": "2723e185",
   "metadata": {},
   "outputs": [
    {
     "name": "stdout",
     "output_type": "stream",
     "text": [
      "Before swap a =12 b = 14\n",
      "After swap a = 14 b = 12\n"
     ]
    }
   ],
   "source": [
    "def swap_two_numbers():\n",
    "    a = 12\n",
    "    b = 14\n",
    "    print(f\"Before swap a ={a} b = {b}\")\n",
    "    c = a\n",
    "    a = b\n",
    "    b = c\n",
    "    print(f\"After swap a = {a} b = {b}\")\n",
    "swap_two_numbers()"
   ]
  },
  {
   "cell_type": "markdown",
   "id": "945e4d2c",
   "metadata": {},
   "source": [
    "5. Write a Python program to generate a random number?"
   ]
  },
  {
   "cell_type": "code",
   "execution_count": 9,
   "id": "d079611c",
   "metadata": {},
   "outputs": [
    {
     "name": "stdout",
     "output_type": "stream",
     "text": [
      "67\n"
     ]
    }
   ],
   "source": [
    "import random\n",
    "def random_number():\n",
    "    n = random.randint(0,100)\n",
    "    print(n)\n",
    "random_number()"
   ]
  },
  {
   "cell_type": "code",
   "execution_count": null,
   "id": "874de89e",
   "metadata": {},
   "outputs": [],
   "source": []
  }
 ],
 "metadata": {
  "kernelspec": {
   "display_name": "Python 3 (ipykernel)",
   "language": "python",
   "name": "python3"
  },
  "language_info": {
   "codemirror_mode": {
    "name": "ipython",
    "version": 3
   },
   "file_extension": ".py",
   "mimetype": "text/x-python",
   "name": "python",
   "nbconvert_exporter": "python",
   "pygments_lexer": "ipython3",
   "version": "3.9.13"
  }
 },
 "nbformat": 4,
 "nbformat_minor": 5
}
