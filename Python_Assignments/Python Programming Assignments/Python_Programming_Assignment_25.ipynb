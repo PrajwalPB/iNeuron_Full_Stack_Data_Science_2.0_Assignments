{
 "cells": [
  {
   "cell_type": "markdown",
   "id": "4a56ba18",
   "metadata": {},
   "source": [
    "# Question1\n",
    "Create a function that takes three integer arguments (a, b, c) and returns the amount of\n",
    "integers which are of equal value.\n",
    "Examples\n",
    "equal(3, 4, 3) ➞ 2\n",
    "equal(1, 1, 1) ➞ 3\n",
    "equal(3, 4, 1) ➞ 0\n",
    "Notes\n",
    "Your function must return 0, 2 or 3."
   ]
  },
  {
   "cell_type": "code",
   "execution_count": 1,
   "id": "8a4d9b04",
   "metadata": {},
   "outputs": [
    {
     "name": "stdout",
     "output_type": "stream",
     "text": [
      "equal(3, 4, 3) ➞ 2\n",
      "equal(1, 1, 1) ➞ 3\n",
      "equal(3, 4, 1) ➞ 0\n"
     ]
    }
   ],
   "source": [
    "def equal(a,b,c):\n",
    "    if(a==b and a==c):\n",
    "        return 3\n",
    "    if(a==b or a==c):\n",
    "        return 2\n",
    "    else:\n",
    "        return 0\n",
    "\n",
    "print(f'equal(3, 4, 3) ➞ {equal(3, 4, 3)}')\n",
    "print(f'equal(1, 1, 1) ➞ {equal(1, 1, 1)}')\n",
    "print(f'equal(3, 4, 1) ➞ {equal(3, 4, 1)}')"
   ]
  },
  {
   "cell_type": "markdown",
   "id": "32d42627",
   "metadata": {},
   "source": [
    "# Question2\n",
    "Write a function that converts a dictionary into a list of keys-values tuples.\n",
    "Examples\n",
    "dict_to_list({\n",
    "&quot;D&quot;: 1,\n",
    "&quot;B&quot;: 2,\n",
    "&quot;C&quot;: 3\n",
    "}) ➞ [(&quot;B&quot;, 2), (&quot;C&quot;, 3), (&quot;D&quot;, 1)]\n",
    "dict_to_list({\n",
    "&quot;likes&quot;: 2,\n",
    "&quot;dislikes&quot;: 3,\n",
    "&quot;followers&quot;: 10\n",
    "}) ➞ [(&quot;dislikes&quot;, 3), (&quot;followers&quot;, 10), (&quot;likes&quot;, 2)]\n",
    "Notes\n",
    "Return the elements in the list in alphabetical order."
   ]
  },
  {
   "cell_type": "code",
   "execution_count": 2,
   "id": "103435e1",
   "metadata": {},
   "outputs": [
    {
     "name": "stdout",
     "output_type": "stream",
     "text": [
      "dict_to_list➞[('B', 2), ('C', 3), ('D', 1)]\n",
      "dict_to_list➞[('dislikes', 3), ('followers', 10), ('likes', 2)]\n"
     ]
    }
   ],
   "source": [
    "def dict_to_list(di):\n",
    "    l = []\n",
    "    for i in di:\n",
    "        s =(i,di[i])\n",
    "        l.append(s)\n",
    "        l.sort()\n",
    "    return l\n",
    "\n",
    "print(f'dict_to_list➞{dict_to_list({ \"D\": 1, \"B\": 2, \"C\": 3 })}')\n",
    "print(f'dict_to_list➞{dict_to_list({ \"likes\": 2, \"dislikes\": 3, \"followers\": 10  })}')"
   ]
  },
  {
   "cell_type": "markdown",
   "id": "060ff7f3",
   "metadata": {},
   "source": [
    "# Question3\n",
    "Write a function that creates a dictionary with each (key, value) pair being the (lower case,\n",
    "upper case) versions of a letter, respectively.\n",
    "Examples\n",
    "mapping([&quot;p&quot;, &quot;s&quot;]) ➞ { &quot;p&quot;: &quot;P&quot;, &quot;s&quot;: &quot;S&quot; }\n",
    "\n",
    "mapping([&quot;a&quot;, &quot;b&quot;, &quot;c&quot;]) ➞ { &quot;a&quot;: &quot;A&quot;, &quot;b&quot;: &quot;B&quot;, &quot;c&quot;: &quot;C&quot; }\n",
    "mapping([&quot;a&quot;, &quot;v&quot;, &quot;y&quot;, &quot;z&quot;]) ➞ { &quot;a&quot;: &quot;A&quot;, &quot;v&quot;: &quot;V&quot;, &quot;y&quot;: &quot;Y&quot;, &quot;z&quot;: &quot;Z&quot; }\n",
    "Notes\n",
    "All of the letters in the input list will always be lowercase."
   ]
  },
  {
   "cell_type": "code",
   "execution_count": 3,
   "id": "d91ba270",
   "metadata": {},
   "outputs": [
    {
     "name": "stdout",
     "output_type": "stream",
     "text": [
      "mapping([\"p\", \"s\"])➞{'p': 'P', 's': 'S'}\n",
      "mapping([\"a\", \"b\", \"c\"]) ➞){'a': 'A', 'b': 'B', 'c': 'C'}\n",
      "mapping([\"a\", \"v\", \"y\", \"z\"]) ➞){'a': 'A', 'v': 'V', 'y': 'Y', 'z': 'Z'}\n"
     ]
    }
   ],
   "source": [
    "def mapping(lst):\n",
    "    d = {}\n",
    "    for i in lst:\n",
    "        d[i] = i.upper()\n",
    "    return d\n",
    "print(f'mapping([\"p\", \"s\"])➞{mapping([\"p\", \"s\"])}')\n",
    "print(f'mapping([\"a\", \"b\", \"c\"]) ➞){mapping([\"a\", \"b\", \"c\"])}')\n",
    "print(f'mapping([\"a\", \"v\", \"y\", \"z\"]) ➞){mapping([\"a\", \"v\", \"y\", \"z\"])}')"
   ]
  },
  {
   "cell_type": "markdown",
   "id": "b1b1267a",
   "metadata": {},
   "source": [
    "# Question4\n",
    "Write a function, that replaces all vowels in a string with a specified vowel.\n",
    "Examples\n",
    "vow_replace(&quot;apples and bananas&quot;, &quot;u&quot;) ➞ &quot;upplus und bununus&quot;\n",
    "vow_replace(&quot;cheese casserole&quot;, &quot;o&quot;) ➞ &quot;chooso cossorolo&quot;\n",
    "vow_replace(&quot;stuffed jalapeno poppers&quot;, &quot;e&quot;) ➞ &quot;steffed jelepene peppers&quot;\n",
    "Notes\n",
    "All words will be lowercase. Y is not considered a vowel."
   ]
  },
  {
   "cell_type": "code",
   "execution_count": 4,
   "id": "a983286c",
   "metadata": {},
   "outputs": [
    {
     "name": "stdout",
     "output_type": "stream",
     "text": [
      "vow_replace(\"apples and bananas\", \"u\") ➞upplus und bununus\n",
      "vow_replace(\"cheese casserole\", \"o\") ➞chooso cossorolo\n",
      "vow_replace(\"stuffed jalapeno poppers\", \"e\") ➞steffed jelepene peppers\n"
     ]
    }
   ],
   "source": [
    "def vow_replace(string,rep):\n",
    "    vowel = \"aeiou\"\n",
    "    for i in vowel:\n",
    "        string = string.replace(i,rep)\n",
    "    return string\n",
    "\n",
    "print(f'vow_replace(\"apples and bananas\", \"u\") ➞{vow_replace(\"apples and bananas\", \"u\")}')\n",
    "print(f'vow_replace(\"cheese casserole\", \"o\") ➞{vow_replace(\"cheese casserole\", \"o\")}')\n",
    "print(f'vow_replace(\"stuffed jalapeno poppers\", \"e\") ➞{vow_replace(\"stuffed jalapeno poppers\", \"e\")}')"
   ]
  },
  {
   "cell_type": "markdown",
   "id": "2b9424f7",
   "metadata": {},
   "source": [
    "# Question5\n",
    "Create a function that takes a string as input and capitalizes a letter if its ASCII code is even\n",
    "and returns its lower case version if its ASCII code is odd.\n",
    "Examples\n",
    "ascii_capitalize(&quot;to be or not to be!&quot;) ➞ &quot;To Be oR NoT To Be!&quot;\n",
    "ascii_capitalize(&quot;THE LITTLE MERMAID&quot;) ➞ &quot;THe LiTTLe meRmaiD&quot;\n",
    "ascii_capitalize(&quot;Oh what a beautiful morning.&quot;) ➞ &quot;oH wHaT a BeauTiFuL\n",
    "moRNiNg.&quot;"
   ]
  },
  {
   "cell_type": "code",
   "execution_count": 5,
   "id": "355fe675",
   "metadata": {},
   "outputs": [
    {
     "name": "stdout",
     "output_type": "stream",
     "text": [
      "ascii_capitalize(\"to be or not to be!\") ➞ To Be oR NoT To Be!\n",
      "ascii_capitalize(\"THE LITTLE MERMAID\") ➞ THe LiTTLe meRmaiD\n",
      "ascii_capitalize(\"Oh what a beautiful morning.\") ➞ oH wHaT a BeauTiFuL moRNiNg.\n"
     ]
    }
   ],
   "source": [
    "def ascii_capitalize(string):\n",
    "    ss= \"\"\n",
    "    ll = []\n",
    "    for i in string:\n",
    "        asci = ord(i)\n",
    "        if asci%2 == 0:\n",
    "            ll.append(i.capitalize())\n",
    "        else:\n",
    "            ll.append(i.lower())\n",
    "    \n",
    "    return \"\".join(ll)\n",
    "    \n",
    "print(f'ascii_capitalize(\"to be or not to be!\") ➞ {ascii_capitalize(\"to be or not to be!\")}')\n",
    "print(f'ascii_capitalize(\"THE LITTLE MERMAID\") ➞ {ascii_capitalize(\"THE LITTLE MERMAID\")}')\n",
    "print(f'ascii_capitalize(\"Oh what a beautiful morning.\") ➞ {ascii_capitalize(\"Oh what a beautiful morning.\")}')\n",
    "   "
   ]
  }
 ],
 "metadata": {
  "kernelspec": {
   "display_name": "Python 3 (ipykernel)",
   "language": "python",
   "name": "python3"
  },
  "language_info": {
   "codemirror_mode": {
    "name": "ipython",
    "version": 3
   },
   "file_extension": ".py",
   "mimetype": "text/x-python",
   "name": "python",
   "nbconvert_exporter": "python",
   "pygments_lexer": "ipython3",
   "version": "3.9.13"
  }
 },
 "nbformat": 4,
 "nbformat_minor": 5
}
