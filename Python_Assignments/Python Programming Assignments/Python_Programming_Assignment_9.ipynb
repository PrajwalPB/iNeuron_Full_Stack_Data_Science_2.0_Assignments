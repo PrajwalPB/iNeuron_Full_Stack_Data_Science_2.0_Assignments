{
 "cells": [
  {
   "cell_type": "markdown",
   "id": "c0d0beb8",
   "metadata": {},
   "source": [
    "1. Write a Python program to check if the given number is a Disarium Number?"
   ]
  },
  {
   "cell_type": "code",
   "execution_count": 20,
   "id": "7c53f782",
   "metadata": {},
   "outputs": [
    {
     "name": "stdout",
     "output_type": "stream",
     "text": [
      "Enter the Number\n",
      "135\n",
      "The number is Disarium Number\n"
     ]
    }
   ],
   "source": [
    "num = int(input(\"Enter the Number\\n\"))\n",
    "num1 = num\n",
    "position = len(str(num))\n",
    "sum_num = 0\n",
    "while(num!=0):\n",
    "    a = num%10\n",
    "    num = num // 10\n",
    "    sum_num = sum_num + a**position\n",
    "    position = position-1\n",
    "if sum_num == num1:\n",
    "    print(\"The number is Disarium Number\")\n",
    "else:\n",
    "    print(\"The number is Not Disarium Number\")"
   ]
  },
  {
   "cell_type": "markdown",
   "id": "ad4e58f5",
   "metadata": {},
   "source": [
    "2. Write a Python program to print all disarium numbers between 1 to 100?"
   ]
  },
  {
   "cell_type": "code",
   "execution_count": 27,
   "id": "b537c5be",
   "metadata": {},
   "outputs": [
    {
     "name": "stdout",
     "output_type": "stream",
     "text": [
      "The  disarium Numbers between 1 to 100 are -\n",
      "\n",
      "1\n",
      "2\n",
      "3\n",
      "4\n",
      "5\n",
      "6\n",
      "7\n",
      "8\n",
      "9\n",
      "89\n"
     ]
    }
   ],
   "source": [
    "print(\"The  disarium Numbers between 1 to 100 are -\\n\")\n",
    "for i in range(1,101):\n",
    "    num1 = i\n",
    "    position = len(str(i))\n",
    "    sum_num = 0\n",
    "    while(i!=0):\n",
    "        a = i%10\n",
    "        i = i // 10\n",
    "        sum_num = sum_num + a**position\n",
    "        position = position-1\n",
    "    if sum_num == num1:\n",
    "        print(sum_num)\n",
    "     "
   ]
  },
  {
   "cell_type": "markdown",
   "id": "00e5bea0",
   "metadata": {},
   "source": [
    "3. Write a Python program to check if the given number is Happy Number?"
   ]
  },
  {
   "cell_type": "code",
   "execution_count": 47,
   "id": "6b69ea03",
   "metadata": {},
   "outputs": [
    {
     "name": "stdout",
     "output_type": "stream",
     "text": [
      "Enter the Number\n",
      "70\n",
      "70 Is a Happy Number\n"
     ]
    }
   ],
   "source": [
    "num = int(input(\"Enter the Number\\n\"))\n",
    "\n",
    "x = num\n",
    "while x>=10:\n",
    "    new_value = 0\n",
    "    while(x>0):\n",
    "        a = x%10\n",
    "        new_value = new_value + (a**2)\n",
    "        x = x//10\n",
    "    x=new_value\n",
    "    \n",
    "if x == 1:\n",
    "    print(num,\"Is a Happy Number\")\n",
    "else:\n",
    "    print(num, \"Is not a Happy NUmber\")\n",
    "        \n",
    "    "
   ]
  },
  {
   "cell_type": "markdown",
   "id": "fbd9af57",
   "metadata": {},
   "source": [
    "4. Write a Python program to print all happy numbers between 1 and 100?"
   ]
  },
  {
   "cell_type": "code",
   "execution_count": 48,
   "id": "0b45e49f",
   "metadata": {},
   "outputs": [
    {
     "name": "stdout",
     "output_type": "stream",
     "text": [
      "The Happy Numbers form 1 to 100 are-\n",
      "\n",
      "1\n",
      "10\n",
      "13\n",
      "19\n",
      "23\n",
      "28\n",
      "31\n",
      "32\n",
      "44\n",
      "49\n",
      "68\n",
      "70\n",
      "79\n",
      "82\n",
      "86\n",
      "91\n",
      "94\n",
      "97\n",
      "100\n"
     ]
    }
   ],
   "source": [
    "print(\"The Happy Numbers form 1 to 100 are-\\n\")\n",
    "for i in range(1,101):\n",
    "    x = i\n",
    "    while x>=10:\n",
    "        new_value = 0\n",
    "        while(x>0):\n",
    "            a = x%10\n",
    "            new_value = new_value + (a**2)\n",
    "            x = x//10\n",
    "        x=new_value\n",
    "\n",
    "    if x == 1:\n",
    "        print(i)\n"
   ]
  },
  {
   "cell_type": "markdown",
   "id": "a5fec170",
   "metadata": {},
   "source": [
    "5. Write a Python program to determine whether the given number is a Harshad Number?"
   ]
  },
  {
   "cell_type": "code",
   "execution_count": 51,
   "id": "1cf00007",
   "metadata": {},
   "outputs": [
    {
     "name": "stdout",
     "output_type": "stream",
     "text": [
      "Enter the NUmber\n",
      "156\n",
      "156  is Harshad Number\n"
     ]
    }
   ],
   "source": [
    "num = int(input(\"Enter the NUmber\\n\"))\n",
    "num1 = num\n",
    "summ = 0\n",
    "while(num!=0):\n",
    "    rem = num%10\n",
    "    summ = summ + rem\n",
    "    num = num//10\n",
    "if(num1%summ==0):\n",
    "    print(num1,\" is Harshad Number\")\n",
    "else:\n",
    "    print(num1,\" is Not Harshad Number\")"
   ]
  },
  {
   "cell_type": "markdown",
   "id": "4f45d926",
   "metadata": {},
   "source": [
    "6. Write a Python program to print all pronic numbers between 1 and 100?"
   ]
  },
  {
   "cell_type": "code",
   "execution_count": 55,
   "id": "b59528d8",
   "metadata": {},
   "outputs": [
    {
     "name": "stdout",
     "output_type": "stream",
     "text": [
      "Pronic numbers between 1 and 100: \n",
      "2\n",
      "6\n",
      "12\n",
      "20\n",
      "30\n",
      "42\n",
      "56\n",
      "72\n",
      "90\n"
     ]
    }
   ],
   "source": [
    "print(\"Pronic numbers between 1 and 100: \")\n",
    "for i in range(1,101):\n",
    "    number = i\n",
    "    for j in range(1,i):\n",
    "        if((j*(j+1))==number):\n",
    "            print(number)"
   ]
  }
 ],
 "metadata": {
  "kernelspec": {
   "display_name": "Python 3 (ipykernel)",
   "language": "python",
   "name": "python3"
  },
  "language_info": {
   "codemirror_mode": {
    "name": "ipython",
    "version": 3
   },
   "file_extension": ".py",
   "mimetype": "text/x-python",
   "name": "python",
   "nbconvert_exporter": "python",
   "pygments_lexer": "ipython3",
   "version": "3.9.12"
  }
 },
 "nbformat": 4,
 "nbformat_minor": 5
}
