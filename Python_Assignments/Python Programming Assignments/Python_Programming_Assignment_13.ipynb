{
 "cells": [
  {
   "cell_type": "markdown",
   "id": "4da9738c",
   "metadata": {},
   "source": [
    " Question 1:\n",
    "Write a program that calculates and prints the value according to the given formula:\n",
    "Q = Square root of [(2 * C * D)/H]\n",
    "Following are the fixed values of C and H:\n",
    "C is 50. H is 30.\n",
    "D is the variable whose values should be input to your program in a comma-separated\n",
    "sequence.\n",
    "Example\n",
    "Let us assume the following comma separated input sequence is given to the program:\n",
    "100,150,180\n",
    "The output of the program should be:\n",
    "18,22,24"
   ]
  },
  {
   "cell_type": "code",
   "execution_count": 2,
   "id": "4bb608f1",
   "metadata": {},
   "outputs": [
    {
     "name": "stdout",
     "output_type": "stream",
     "text": [
      "Enter the values\n",
      "100,150,180\n",
      "18,22,24\n"
     ]
    }
   ],
   "source": [
    "import numpy as np\n",
    "C = 50\n",
    "H = 30\n",
    "l1 = []\n",
    "D = input(\"Enter the values\\n\")\n",
    "D = D.split(sep = ',')\n",
    "for i in D:\n",
    "    Q = int(np.sqrt((2*C*int(i))/H))\n",
    "    l1.append(Q)\n",
    "print(*l1,sep = \",\")\n",
    "\n",
    "\n",
    "    \n",
    "    \n"
   ]
  },
  {
   "cell_type": "raw",
   "id": "b418839e",
   "metadata": {},
   "source": [
    "Question 2:\n",
    "Write a program which takes 2 digits, X,Y as input and generates a 2-dimensional array. The\n",
    "element value in the i-th row and j-th column of the array should be i*j.\n",
    "Note: i=0,1.., X-1; j=0,1,¡Y-1.\n",
    "Example\n",
    "Suppose the following inputs are given to the program:\n",
    "3,5\n",
    "Then, the output of the program should be:\n",
    "[[0, 0, 0, 0, 0], [0, 1, 2, 3, 4], [0, 2, 4, 6, 8]]\n"
   ]
  },
  {
   "cell_type": "code",
   "execution_count": 11,
   "id": "6d169515",
   "metadata": {},
   "outputs": [
    {
     "name": "stdout",
     "output_type": "stream",
     "text": [
      "Enter the value of X\n",
      "3\n",
      "Enter the value of Y\n",
      "5\n",
      "[[0, 0, 0, 0, 0], [0, 1, 2, 3, 4], [0, 2, 4, 6, 8]]\n"
     ]
    }
   ],
   "source": [
    "import numpy as np\n",
    "two_d = []\n",
    "X = int(input(\"Enter the value of X\\n\"))\n",
    "Y = int(input(\"Enter the value of Y\\n\"))\n",
    "for i in range(X):\n",
    "    a = []\n",
    "    for j in range(Y):\n",
    "        a.append(i*j)\n",
    "    two_d.append(a)\n",
    "        \n",
    "print(two_d)\n"
   ]
  },
  {
   "cell_type": "markdown",
   "id": "44fe8a75",
   "metadata": {},
   "source": [
    "Question 3:\n",
    "Write a program that accepts a comma separated sequence of words as input and prints the\n",
    "words in a comma-separated sequence after sorting them alphabetically.\n",
    "Suppose the following input is supplied to the program:\n",
    "without,hello,bag,world\n",
    "Then, the output should be:\n",
    "bag,hello,without,world"
   ]
  },
  {
   "cell_type": "code",
   "execution_count": 5,
   "id": "e6162713",
   "metadata": {},
   "outputs": [
    {
     "name": "stdout",
     "output_type": "stream",
     "text": [
      "Enter the string\n",
      "without,hello,bag,world\n",
      "The sorted comma seperated string is :\n",
      "\n",
      "bag,hello,without,world\n"
     ]
    }
   ],
   "source": [
    "string = input(\"Enter the string\\n\")\n",
    "sep_string = string.split(sep = \",\")\n",
    "sep_string.sort()\n",
    "print(\"The sorted comma seperated string is :\\n\")\n",
    "print(*sep_string,sep = \",\")\n"
   ]
  },
  {
   "cell_type": "markdown",
   "id": "de3dee11",
   "metadata": {},
   "source": [
    "Question 4:\n",
    "Write a program that accepts a sequence of whitespace separated words as input and prints\n",
    "the words after removing all duplicate words and sorting them alphanumerically.\n",
    "Suppose the following input is supplied to the program:\n",
    "hello world and practice makes perfect and hello world again\n",
    "Then, the output should be:\n",
    "again and hello makes perfect practice world"
   ]
  },
  {
   "cell_type": "code",
   "execution_count": 1,
   "id": "a0d17dea",
   "metadata": {},
   "outputs": [
    {
     "name": "stdout",
     "output_type": "stream",
     "text": [
      "Enter the string\n",
      "hello world and practice makes perfect and hello world again\n",
      "The output is :\n",
      "again and hello makes perfect practice world\n"
     ]
    }
   ],
   "source": [
    "input_string = input('Enter the string\\n')\n",
    "split_str = input_string.split(sep = \" \")\n",
    "split_str.sort()\n",
    "for i in split_str:\n",
    "    if split_str.count(i) > 1:\n",
    "        split_str.remove(i)\n",
    "print(\"The output is :\")\n",
    "print(*split_str,sep =\" \")"
   ]
  },
  {
   "cell_type": "markdown",
   "id": "43399372",
   "metadata": {},
   "source": [
    "Question 5:\n",
    "Write a program that accepts a sentence and calculate the number of letters and digits.\n",
    "Suppose the following input is supplied to the program:\n",
    "hello world! 123\n",
    "Then, the output should be:\n",
    "LETTERS 10\n",
    "\n",
    "DIGITS 3"
   ]
  },
  {
   "cell_type": "code",
   "execution_count": 2,
   "id": "82dd704b",
   "metadata": {},
   "outputs": [
    {
     "name": "stdout",
     "output_type": "stream",
     "text": [
      "Enter the string\n",
      "hello world! 123\n",
      "LETTERS  10\n",
      "DIGITS  3\n"
     ]
    }
   ],
   "source": [
    "string = input(\"Enter the string\\n\")\n",
    "n = \"1,2,3,4,5,6,7,8,9,0\"\n",
    "special_letters = \"!,%,#,@,-,_,*,^,/,?,<,>,$,\"\n",
    "digits = 0\n",
    "letters = 0\n",
    "for i in string.split():\n",
    "    for j in i:\n",
    "        if j in n:\n",
    "            digits = digits + 1\n",
    "        elif j in special_letters:\n",
    "            letters = letters + 0\n",
    "        else:\n",
    "            letters = letters + 1\n",
    "print(\"LETTERS \",letters)\n",
    "print(\"DIGITS \",digits)"
   ]
  },
  {
   "cell_type": "markdown",
   "id": "da0a8d54",
   "metadata": {},
   "source": [
    "Question 6:\n",
    "A website requires the users to input username and password to register. Write a program to\n",
    "check the validity of password input by users.\n",
    "Following are the criteria for checking the password:\n",
    "1. At least 1 letter between [a-z]\n",
    "2. At least 1 number between [0-9]\n",
    "1. At least 1 letter between [A-Z]\n",
    "3. At least 1 character from [$#@]\n",
    "4. Minimum length of transaction password: 6\n",
    "5. Maximum length of transaction password: 12\n",
    "Your program should accept a sequence of comma separated passwords and will check them\n",
    "according to the above criteria. Passwords that match the criteria are to be printed, each\n",
    "separated by a comma.\n",
    "Example\n",
    "If the following passwords are given as input to the program:\n",
    "ABd1234@1,a F1#,2w3E*,2We3345\n",
    "Then, the output of the program should be:\n",
    "ABd1234@1"
   ]
  },
  {
   "cell_type": "code",
   "execution_count": 4,
   "id": "12457c69",
   "metadata": {},
   "outputs": [
    {
     "name": "stdout",
     "output_type": "stream",
     "text": [
      "Enter the Passwords\n",
      "ABd1234@1,a F1#,2w3E*,2We3345\n",
      "Accepted Passwords : ABd1234@1\n"
     ]
    }
   ],
   "source": [
    "string = input('Enter the Passwords\\n')\n",
    "num = \"1,2,3,4,5,6,7,8,9,0\"\n",
    "spe = \"$#@\"\n",
    "small = \"abcdefghijklmnopqrstuvwxyz\"\n",
    "capital = \"ABCDEFGHIJKLMNOPQRSTUVWXYZ\"\n",
    "passwords = string.split(sep = \",\")\n",
    "for i in passwords:\n",
    "    if len(i) > 6 and len(i) < 12:\n",
    "        if any(j in num for j in i):\n",
    "            if any(j in spe for j in i):\n",
    "                if any(j in small for j in i):\n",
    "                    if any(j in capital for j in i):\n",
    "                        print('Accepted Passwords :',i)\n",
    "            "
   ]
  },
  {
   "cell_type": "code",
   "execution_count": null,
   "id": "4c526c3f",
   "metadata": {},
   "outputs": [],
   "source": []
  }
 ],
 "metadata": {
  "kernelspec": {
   "display_name": "Python 3 (ipykernel)",
   "language": "python",
   "name": "python3"
  },
  "language_info": {
   "codemirror_mode": {
    "name": "ipython",
    "version": 3
   },
   "file_extension": ".py",
   "mimetype": "text/x-python",
   "name": "python",
   "nbconvert_exporter": "python",
   "pygments_lexer": "ipython3",
   "version": "3.9.13"
  }
 },
 "nbformat": 4,
 "nbformat_minor": 5
}
