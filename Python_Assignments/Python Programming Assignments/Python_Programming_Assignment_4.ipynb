{
 "cells": [
  {
   "cell_type": "markdown",
   "id": "c044edfb",
   "metadata": {},
   "source": [
    "1. Write a Python Program to Find the Factorial of a Number?"
   ]
  },
  {
   "cell_type": "code",
   "execution_count": 8,
   "id": "66d9f750",
   "metadata": {},
   "outputs": [
    {
     "name": "stdout",
     "output_type": "stream",
     "text": [
      "Enter the number\n",
      "5\n",
      "Factorial is 120\n"
     ]
    }
   ],
   "source": [
    "def find_factorial():\n",
    "    num = int(input('Enter the number\\n'))\n",
    "    fact = 1\n",
    "    for i in range(1,num+1):\n",
    "        fact = fact * i\n",
    "    print(f'Factorial is {fact}')\n",
    "    \n",
    "find_factorial()\n",
    "        "
   ]
  },
  {
   "cell_type": "markdown",
   "id": "26ad2ee2",
   "metadata": {},
   "source": [
    "2. Write a Python Program to Display the multiplication Table?"
   ]
  },
  {
   "cell_type": "code",
   "execution_count": 13,
   "id": "122ecb86",
   "metadata": {},
   "outputs": [
    {
     "name": "stdout",
     "output_type": "stream",
     "text": [
      "Enter the number\n",
      "5\n",
      "5 X 1 = 5\n",
      "5 X 2 = 10\n",
      "5 X 3 = 15\n",
      "5 X 4 = 20\n",
      "5 X 5 = 25\n",
      "5 X 6 = 30\n",
      "5 X 7 = 35\n",
      "5 X 8 = 40\n",
      "5 X 9 = 45\n",
      "5 X 10 = 50\n"
     ]
    }
   ],
   "source": [
    "number = int(input(\"Enter the number\\n\"))\n",
    "table = 1\n",
    "for i in range(1,11):\n",
    "    table = number * i\n",
    "    print(f'{number} X {i} = {table}')"
   ]
  },
  {
   "cell_type": "markdown",
   "id": "008d2a30",
   "metadata": {},
   "source": [
    "3. Write a Python Program to Print the Fibonacci sequence?"
   ]
  },
  {
   "cell_type": "code",
   "execution_count": 18,
   "id": "dcc8a728",
   "metadata": {},
   "outputs": [
    {
     "name": "stdout",
     "output_type": "stream",
     "text": [
      "Enter the number\n",
      "10\n",
      "0\n",
      "1\n",
      "1\n",
      "2\n",
      "3\n",
      "5\n",
      "8\n",
      "13\n",
      "21\n",
      "34\n",
      "55\n"
     ]
    }
   ],
   "source": [
    "def fibo():\n",
    "    num = int(input('Enter the number\\n'))\n",
    "    x = 0\n",
    "    y = 1\n",
    "    print(x)\n",
    "    print(y)\n",
    "    for i in range(1,num):\n",
    "        z = x+y\n",
    "        x = y\n",
    "        y = z\n",
    "        print(z)\n",
    "fibo()"
   ]
  },
  {
   "cell_type": "markdown",
   "id": "761c8a8d",
   "metadata": {},
   "source": [
    "4. Write a Python Program to Check Armstrong Number?"
   ]
  },
  {
   "cell_type": "code",
   "execution_count": 40,
   "id": "3826c02b",
   "metadata": {},
   "outputs": [
    {
     "name": "stdout",
     "output_type": "stream",
     "text": [
      "Enter the three digit Number\n",
      "1634\n",
      "Armstrong Number\n"
     ]
    }
   ],
   "source": [
    "num = int(input(\"Enter the three digit Number\\n\"))\n",
    "order = len(str(num))\n",
    "num1 = num\n",
    "sum = 0\n",
    "while num>0:\n",
    "    n = num%10\n",
    "    sum = sum + n**order\n",
    "    num = num//10\n",
    "if(num1==sum):\n",
    "    print(\"Armstrong Number\")\n",
    "else:\n",
    "    print(\"Not Armstrong Number\")"
   ]
  },
  {
   "cell_type": "markdown",
   "id": "73cd719b",
   "metadata": {},
   "source": [
    "5. Write a Python Program to Find Armstrong Number in an Interval?"
   ]
  },
  {
   "cell_type": "code",
   "execution_count": 50,
   "id": "86a8be80",
   "metadata": {},
   "outputs": [
    {
     "name": "stdout",
     "output_type": "stream",
     "text": [
      "Ente the lower value\n",
      "100\n",
      "Enter the upper value\n",
      "500\n",
      "armstrong number 153\n",
      "armstrong number 370\n",
      "armstrong number 371\n",
      "armstrong number 407\n"
     ]
    }
   ],
   "source": [
    "lower_value = int(input(\"Ente the lower value\\n\"))\n",
    "upper_value = int(input(\"Enter the upper value\\n\"))\n",
    "for num in range(lower_value,upper_value+1):\n",
    "    sum = 0\n",
    "    order = len(str(num))\n",
    "    temp  = num\n",
    "    while temp > 0:\n",
    "        digit = temp%10 #last digit\n",
    "        sum = sum + digit**order\n",
    "        temp = temp//10    \n",
    "    if(num == sum):\n",
    "        print(\"armstrong number\",num)\n",
    "        \n",
    "        "
   ]
  },
  {
   "cell_type": "markdown",
   "id": "01aa1330",
   "metadata": {},
   "source": [
    "6. Write a Python Program to Find the Sum of Natural Numbers?"
   ]
  },
  {
   "cell_type": "code",
   "execution_count": 52,
   "id": "78d65733",
   "metadata": {},
   "outputs": [
    {
     "name": "stdout",
     "output_type": "stream",
     "text": [
      "Enter the number\n",
      "10\n",
      "Sum of  10 natural numbers is  55.0\n"
     ]
    }
   ],
   "source": [
    "num = int(input(\"Enter the number\\n\"))\n",
    "sum = num*(num+1)/2\n",
    "print(\"Sum of \",num,\"natural numbers is \",sum)"
   ]
  },
  {
   "cell_type": "code",
   "execution_count": null,
   "id": "9c10667f",
   "metadata": {},
   "outputs": [],
   "source": []
  },
  {
   "cell_type": "code",
   "execution_count": null,
   "id": "fb2c3c1e",
   "metadata": {},
   "outputs": [],
   "source": []
  },
  {
   "cell_type": "code",
   "execution_count": null,
   "id": "0db3c0f1",
   "metadata": {},
   "outputs": [],
   "source": []
  }
 ],
 "metadata": {
  "kernelspec": {
   "display_name": "Python 3 (ipykernel)",
   "language": "python",
   "name": "python3"
  },
  "language_info": {
   "codemirror_mode": {
    "name": "ipython",
    "version": 3
   },
   "file_extension": ".py",
   "mimetype": "text/x-python",
   "name": "python",
   "nbconvert_exporter": "python",
   "pygments_lexer": "ipython3",
   "version": "3.9.13"
  }
 },
 "nbformat": 4,
 "nbformat_minor": 5
}
