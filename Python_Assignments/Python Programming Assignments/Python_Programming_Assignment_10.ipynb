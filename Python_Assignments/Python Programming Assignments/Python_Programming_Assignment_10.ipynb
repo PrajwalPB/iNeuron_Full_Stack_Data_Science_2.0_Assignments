{
 "cells": [
  {
   "cell_type": "markdown",
   "id": "ac40dbc6",
   "metadata": {},
   "source": [
    "1. Write a Python program to find sum of elements in list?"
   ]
  },
  {
   "cell_type": "code",
   "execution_count": 7,
   "id": "c5bdc051",
   "metadata": {},
   "outputs": [
    {
     "name": "stdout",
     "output_type": "stream",
     "text": [
      "Enter the size of the list4\n",
      "12\n",
      "33\n",
      "5\n",
      "6\n",
      "The Sum is 56\n"
     ]
    }
   ],
   "source": [
    "size = int(input(\"Enter the size of the list\"))\n",
    "l1 = []\n",
    "for i in range(1,size+1):\n",
    "    user = int(input())\n",
    "    l1.append(user)\n",
    "print(\"The Sum is\",sum(l1))"
   ]
  },
  {
   "cell_type": "markdown",
   "id": "09128d6f",
   "metadata": {},
   "source": [
    "2. Write a Python program to Multiply all numbers in the list?"
   ]
  },
  {
   "cell_type": "code",
   "execution_count": 8,
   "id": "a1cb81e2",
   "metadata": {},
   "outputs": [
    {
     "name": "stdout",
     "output_type": "stream",
     "text": [
      "6720\n"
     ]
    }
   ],
   "source": [
    "l2 = [4,5,6,7,8]\n",
    "mul = 1\n",
    "for i in l2:\n",
    "    mul = mul * i\n",
    "print(\"The multiplication of all numbers in list is\",mul)"
   ]
  },
  {
   "cell_type": "markdown",
   "id": "8bb1ba78",
   "metadata": {},
   "source": [
    "3. Write a Python program to find smallest number in a list?"
   ]
  },
  {
   "cell_type": "code",
   "execution_count": 12,
   "id": "52067381",
   "metadata": {},
   "outputs": [
    {
     "name": "stdout",
     "output_type": "stream",
     "text": [
      "The smallest number in list is  1\n"
     ]
    }
   ],
   "source": [
    "l3 = [3,4,1,5,7]\n",
    "l3.sort()\n",
    "print(\"The smallest number in list is \",l3[0])"
   ]
  },
  {
   "cell_type": "markdown",
   "id": "38075be0",
   "metadata": {},
   "source": [
    "4. Write a Python program to find largest number in a list?"
   ]
  },
  {
   "cell_type": "code",
   "execution_count": 18,
   "id": "b072e0b4",
   "metadata": {},
   "outputs": [
    {
     "name": "stdout",
     "output_type": "stream",
     "text": [
      "Enter the size of the list 4\n",
      "55\n",
      "6\n",
      "7\n",
      "4\n",
      "The largest Element in List is  55\n"
     ]
    }
   ],
   "source": [
    "size = int(input(\"Enter the size of the list \"))\n",
    "l4 = []\n",
    "for i in range(1,size+1):\n",
    "    user = int(input())\n",
    "    l4.append(user)\n",
    "l4.sort()\n",
    "print(\"The largest Element in List is \",l4[size-1])"
   ]
  },
  {
   "cell_type": "markdown",
   "id": "1aa84eaa",
   "metadata": {},
   "source": [
    "5. Write a Python program to find second largest number in a list?"
   ]
  },
  {
   "cell_type": "code",
   "execution_count": 19,
   "id": "5d6d4c26",
   "metadata": {},
   "outputs": [
    {
     "name": "stdout",
     "output_type": "stream",
     "text": [
      "Enter the size of the list 4\n",
      "12\n",
      "33\n",
      "44\n",
      "6\n",
      "The largest Element in List is  33\n"
     ]
    }
   ],
   "source": [
    "size = int(input(\"Enter the size of the list \"))\n",
    "l5 = []\n",
    "for i in range(1,size+1):\n",
    "    user = int(input())\n",
    "    l5.append(user)\n",
    "l5.sort()\n",
    "print(\"The largest Element in List is \",l5[size-2])"
   ]
  },
  {
   "cell_type": "markdown",
   "id": "b1af37dc",
   "metadata": {},
   "source": [
    "6. Write a Python program to find N largest elements from a list?"
   ]
  },
  {
   "cell_type": "code",
   "execution_count": 30,
   "id": "8946c346",
   "metadata": {},
   "outputs": [
    {
     "name": "stdout",
     "output_type": "stream",
     "text": [
      "Enter the size of the list 5\n",
      "5\n",
      "7\n",
      "3\n",
      "44\n",
      "1\n",
      "Ente the n 3\n",
      "The N largest Element in List are  [5, 7, 44]\n"
     ]
    }
   ],
   "source": [
    "size = int(input(\"Enter the size of the list \"))\n",
    "l6 = []\n",
    "for i in range(1,size+1):\n",
    "    user = int(input())\n",
    "    l6.append(user)\n",
    "n = int(input(\"Ente the n \"))\n",
    "l6.sort()\n",
    "print(\"The N largest Element in List are \",l6[-n:])"
   ]
  },
  {
   "cell_type": "markdown",
   "id": "1cc668ca",
   "metadata": {},
   "source": [
    "7. Write a Python program to print even numbers in a list?"
   ]
  },
  {
   "cell_type": "code",
   "execution_count": 35,
   "id": "98ed3053",
   "metadata": {},
   "outputs": [
    {
     "name": "stdout",
     "output_type": "stream",
     "text": [
      "Enter the size of the list 5\n",
      "2\n",
      "12\n",
      "3\n",
      "4\n",
      "5\n",
      "The even Numbers in List are \n",
      "\n",
      "2\n",
      "12\n",
      "4\n"
     ]
    }
   ],
   "source": [
    "size = int(input(\"Enter the size of the list \"))\n",
    "l7 = []\n",
    "for i in range(1,size+1):\n",
    "    user = int(input())\n",
    "    l7.append(user)\n",
    "print(\"The even Numbers in List are \\n\")\n",
    "for j in l7:\n",
    "    if j%2 == 0:\n",
    "        print(j)"
   ]
  },
  {
   "cell_type": "markdown",
   "id": "e105c500",
   "metadata": {},
   "source": [
    "8. Write a Python program to print odd numbers in a List?"
   ]
  },
  {
   "cell_type": "code",
   "execution_count": 36,
   "id": "1e16eb8c",
   "metadata": {},
   "outputs": [
    {
     "name": "stdout",
     "output_type": "stream",
     "text": [
      "Enter the size of the list 5\n",
      "12\n",
      "3\n",
      "4\n",
      "7\n",
      "8\n",
      "The odd Numbers in List are \n",
      "\n",
      "3\n",
      "7\n"
     ]
    }
   ],
   "source": [
    "size = int(input(\"Enter the size of the list \"))\n",
    "l8 = []\n",
    "for i in range(1,size+1):\n",
    "    user = int(input())\n",
    "    l8.append(user)\n",
    "print(\"The odd Numbers in List are \\n\")\n",
    "for j in l8:\n",
    "    if j%2 != 0:\n",
    "        print(j)"
   ]
  },
  {
   "cell_type": "markdown",
   "id": "7065187d",
   "metadata": {},
   "source": [
    "9. Write a Python program to Remove empty List from List?"
   ]
  },
  {
   "cell_type": "code",
   "execution_count": 46,
   "id": "041cce34",
   "metadata": {},
   "outputs": [
    {
     "name": "stdout",
     "output_type": "stream",
     "text": [
      "List with no empty list [1, 2, [6, 7, 8], ['hello', 'fello', 'h']]\n"
     ]
    }
   ],
   "source": [
    "l9 = [1,2,[6,7,8],[],[\"hello\",\"fello\",\"h\"]]\n",
    "for i in l9:\n",
    "    if type(i)==list:\n",
    "        if len(i)==0:\n",
    "            l9.remove(i)\n",
    "print(\"List with no empty list\",l9)"
   ]
  },
  {
   "cell_type": "markdown",
   "id": "938e1468",
   "metadata": {},
   "source": [
    "10. Write a Python program to Cloning or Copying a list?"
   ]
  },
  {
   "cell_type": "code",
   "execution_count": 48,
   "id": "01350269",
   "metadata": {},
   "outputs": [
    {
     "name": "stdout",
     "output_type": "stream",
     "text": [
      "Enter the size of the list 4\n",
      "5\n",
      "6\n",
      "7\n",
      "3\n",
      "Copied list is  [5, 6, 7, 3]\n"
     ]
    }
   ],
   "source": [
    "size = int(input(\"Enter the size of the list \"))\n",
    "l10 = []\n",
    "for i in range(1,size+1):\n",
    "    user = int(input())\n",
    "    l10.append(user)\n",
    "l11 = l10.copy()\n",
    "print('Copied list is ', l11)"
   ]
  },
  {
   "cell_type": "markdown",
   "id": "2e2a6767",
   "metadata": {},
   "source": [
    "11. Write a Python program to Count occurrences of an element in a list?"
   ]
  },
  {
   "cell_type": "code",
   "execution_count": 54,
   "id": "60622777",
   "metadata": {},
   "outputs": [
    {
     "name": "stdout",
     "output_type": "stream",
     "text": [
      "Enter the number you want to  count the occurences of 7\n",
      "The number of Occurences are 4\n"
     ]
    }
   ],
   "source": [
    "l12 = [1,2,2,33,33,4,5,6,7,7,7,7]\n",
    "num = int(input(\"Enter the number you want to  count the occurences of \"))\n",
    "if num not in l12:\n",
    "    print(\"Please enter number present in l12\")\n",
    "else:\n",
    "    count = l12.count(num)\n",
    "    print(\"The number of Occurences are\",count)"
   ]
  }
 ],
 "metadata": {
  "kernelspec": {
   "display_name": "Python 3 (ipykernel)",
   "language": "python",
   "name": "python3"
  },
  "language_info": {
   "codemirror_mode": {
    "name": "ipython",
    "version": 3
   },
   "file_extension": ".py",
   "mimetype": "text/x-python",
   "name": "python",
   "nbconvert_exporter": "python",
   "pygments_lexer": "ipython3",
   "version": "3.9.13"
  }
 },
 "nbformat": 4,
 "nbformat_minor": 5
}
