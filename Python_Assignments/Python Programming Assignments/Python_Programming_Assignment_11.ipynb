{
 "cells": [
  {
   "cell_type": "markdown",
   "id": "6c1147cb",
   "metadata": {},
   "source": [
    "1. Write a Python program to find words which are greater than given length k?"
   ]
  },
  {
   "cell_type": "code",
   "execution_count": 1,
   "id": "bcde00dc",
   "metadata": {},
   "outputs": [
    {
     "name": "stdout",
     "output_type": "stream",
     "text": [
      "Enter the k 4\n",
      "hello\n",
      "prajwal\n",
      "ineuron\n"
     ]
    }
   ],
   "source": [
    "#Input: \"hello welcome to studytonight\", k=6\n",
    "#Output: welcome studytonight\n",
    "string = \"Hello I am Prajwal at Ineuron\"\n",
    "lower = string.lower().split()\n",
    "lower.sort(key = len)\n",
    "k = int(input(\"Enter the k \"))\n",
    "for i in lower:\n",
    "    if len(i) > k:\n",
    "        print(i)\n",
    "        "
   ]
  },
  {
   "cell_type": "markdown",
   "id": "854ef20b",
   "metadata": {},
   "source": [
    "2. Write a Python program for removing i-th character from a string?"
   ]
  },
  {
   "cell_type": "code",
   "execution_count": 2,
   "id": "13b5f2bc",
   "metadata": {},
   "outputs": [
    {
     "name": "stdout",
     "output_type": "stream",
     "text": [
      "Ether the ith number to remove 3\n",
      "Prawal\n"
     ]
    }
   ],
   "source": [
    "my_string = \"Prajwal\"\n",
    "I = int(input(\"Ether the ith number to remove \"))\n",
    "length = len(my_string)\n",
    "if I > length:\n",
    "    print('ith number exceeds the length of String')\n",
    "new = my_string.replace(my_string[I],'',1)\n",
    "print(new)\n"
   ]
  },
  {
   "cell_type": "markdown",
   "id": "9b2523e2",
   "metadata": {},
   "source": [
    "3. Write a Python program to split and join a string?"
   ]
  },
  {
   "cell_type": "code",
   "execution_count": 3,
   "id": "6e4ed92e",
   "metadata": {},
   "outputs": [
    {
     "name": "stdout",
     "output_type": "stream",
     "text": [
      "Splitted String is  ['Hello', 'there', 'I', 'am', 'Prajwal']\n",
      "Joined String is  Hello-there-I-am-Prajwal\n"
     ]
    }
   ],
   "source": [
    "string = \"Hello there I am Prajwal\"\n",
    "split = string.split(sep = \" \")\n",
    "print(\"Splitted String is \",split)\n",
    "string = '-'.join(split)\n",
    "print(\"Joined String is \",string)"
   ]
  },
  {
   "cell_type": "markdown",
   "id": "008955c3",
   "metadata": {},
   "source": [
    "4. Write a Python to check if a given string is binary string or not?"
   ]
  },
  {
   "cell_type": "code",
   "execution_count": 5,
   "id": "44f4896e",
   "metadata": {},
   "outputs": [
    {
     "name": "stdout",
     "output_type": "stream",
     "text": [
      "Binary String\n",
      "Non Binary String\n"
     ]
    }
   ],
   "source": [
    "def string_check(s):\n",
    "    check = 0\n",
    "    a,b = 1,0\n",
    "    for i in s:\n",
    "        if int(i)!=a and int(i)!= b:\n",
    "            check = 1\n",
    "            break\n",
    "    if check == 1:\n",
    "        print(\"Non Binary String\")\n",
    "    else:\n",
    "        print(\"Binary String\")\n",
    "\n",
    "        \n",
    "string1 = \"010110\"\n",
    "string_check(string1)\n",
    "string2 = \"001200\"\n",
    "string_check(string2)"
   ]
  },
  {
   "cell_type": "markdown",
   "id": "e1205631",
   "metadata": {},
   "source": [
    "5. Write a Python program to find uncommon words from two Strings?"
   ]
  },
  {
   "cell_type": "code",
   "execution_count": 10,
   "id": "238b6fcd",
   "metadata": {},
   "outputs": [
    {
     "name": "stdout",
     "output_type": "stream",
     "text": [
      "['Prajwal', 'at', 'ineuron']\n"
     ]
    }
   ],
   "source": [
    "def uncommon_string(s1,s2):\n",
    "    count={}\n",
    "    for i in s1.split():\n",
    "        count[i] = count.get(i,0)+1\n",
    "    for i in s2.split():\n",
    "        count[i] = count.get(i,0) +1\n",
    "    return [i for i in count if count[i] ==1]\n",
    "s1 = \"hello i am Prajwal\"\n",
    "s2 = \"hello i am at ineuron\"\n",
    "print(uncommon_string(s1,s2))"
   ]
  },
  {
   "cell_type": "markdown",
   "id": "f59fdcdc",
   "metadata": {},
   "source": [
    "6. Write a Python to find all duplicate characters in string?"
   ]
  },
  {
   "cell_type": "markdown",
   "id": "b92ffdb6",
   "metadata": {},
   "source": [
    "7. Write a Python Program to check if a string contains any special character?"
   ]
  },
  {
   "cell_type": "code",
   "execution_count": 14,
   "id": "4d131051",
   "metadata": {},
   "outputs": [
    {
     "name": "stdout",
     "output_type": "stream",
     "text": [
      "hello*\n",
      "Special Characters in String\n"
     ]
    }
   ],
   "source": [
    "import re\n",
    "special_ch = re.compile('[@_!$%^&*()<>?/\\|}#{~:]')\n",
    "string = input()\n",
    "if  (special_ch.search(string) == None):\n",
    "    print(\"No special characters in String\")\n",
    "else:\n",
    "    print(\"Special Characters in String\")"
   ]
  }
 ],
 "metadata": {
  "kernelspec": {
   "display_name": "Python 3 (ipykernel)",
   "language": "python",
   "name": "python3"
  },
  "language_info": {
   "codemirror_mode": {
    "name": "ipython",
    "version": 3
   },
   "file_extension": ".py",
   "mimetype": "text/x-python",
   "name": "python",
   "nbconvert_exporter": "python",
   "pygments_lexer": "ipython3",
   "version": "3.9.13"
  }
 },
 "nbformat": 4,
 "nbformat_minor": 5
}
