{
 "cells": [
  {
   "cell_type": "markdown",
   "id": "cc963e88",
   "metadata": {},
   "source": [
    "1. Write a Python Program to Add Two Matrices?"
   ]
  },
  {
   "cell_type": "code",
   "execution_count": 5,
   "id": "2c52a227",
   "metadata": {},
   "outputs": [
    {
     "name": "stdout",
     "output_type": "stream",
     "text": [
      "Matrix a is \n",
      " [[1 2]\n",
      " [8 9]]\n",
      "Matric b is \n",
      " [[4 5]\n",
      " [3 4]]\n",
      "Additio is \n",
      " [[ 5  7]\n",
      " [11 13]]\n"
     ]
    }
   ],
   "source": [
    "import numpy as np\n",
    "a = np.array([[1,2],[8,9]])\n",
    "print(\"Matrix a is \\n\",a)\n",
    "b =np.array([[4,5],[3,4]])\n",
    "print(\"Matric b is \\n\",b)\n",
    "c = a + b\n",
    "print(\"Additio is \\n\",c)"
   ]
  },
  {
   "cell_type": "markdown",
   "id": "7aff5c7e",
   "metadata": {},
   "source": [
    "2. Write a Python Program to Multiply Two Matrices?"
   ]
  },
  {
   "cell_type": "code",
   "execution_count": 7,
   "id": "93ff66a9",
   "metadata": {},
   "outputs": [
    {
     "name": "stdout",
     "output_type": "stream",
     "text": [
      "Matrix a is \n",
      " [[1 2]\n",
      " [8 9]]\n",
      "Matric b is \n",
      " [[4 5]\n",
      " [3 4]]\n",
      "Additio is \n",
      " [[10 13]\n",
      " [59 76]]\n"
     ]
    }
   ],
   "source": [
    "a = np.array([[1,2],[8,9]])\n",
    "print(\"Matrix a is \\n\",a)\n",
    "b =np.array([[4,5],[3,4]])\n",
    "print(\"Matric b is \\n\",b)\n",
    "c = a.dot(b)\n",
    "print(\"Additio is \\n\",c)\n"
   ]
  },
  {
   "cell_type": "markdown",
   "id": "e5c380f7",
   "metadata": {},
   "source": [
    "3. Write a Python Program to Transpose a Matrix?"
   ]
  },
  {
   "cell_type": "code",
   "execution_count": 14,
   "id": "68798a00",
   "metadata": {},
   "outputs": [
    {
     "name": "stdout",
     "output_type": "stream",
     "text": [
      "Matrix a is \n",
      " [[1 2]\n",
      " [8 9]]\n",
      "Transpose of Matrix is \n",
      " [[1 8]\n",
      " [2 9]]\n"
     ]
    }
   ],
   "source": [
    "a = np.array([[1,2],[8,9]])\n",
    "print(\"Matrix a is \\n\",a)\n",
    "print(\"Transpose of Matrix is \\n\",a.T)"
   ]
  },
  {
   "cell_type": "markdown",
   "id": "89d5b6b2",
   "metadata": {},
   "source": [
    "4. Write a Python Program to Sort Words in Alphabetic Order?"
   ]
  },
  {
   "cell_type": "code",
   "execution_count": 37,
   "id": "66e091f0",
   "metadata": {},
   "outputs": [
    {
     "name": "stdout",
     "output_type": "stream",
     "text": [
      "The sorted words are\n",
      "am\n",
      "at\n",
      "datascience\n",
      "hello\n",
      "i\n",
      "ineuron\n",
      "learning\n",
      "student\n"
     ]
    }
   ],
   "source": [
    "string = \"Hello I am Student Learning DataScience at ineuron\"\n",
    "words = [word.lower() for word in string.split()]\n",
    "words.sort()\n",
    "print(\"The sorted words are\")\n",
    "for i in words:\n",
    "    print(i)"
   ]
  },
  {
   "cell_type": "markdown",
   "id": "1b68a30f",
   "metadata": {},
   "source": [
    "5. Write a Python Program to Remove Punctuation From a String?"
   ]
  },
  {
   "cell_type": "code",
   "execution_count": 41,
   "id": "98fac184",
   "metadata": {},
   "outputs": [
    {
     "name": "stdout",
     "output_type": "stream",
     "text": [
      "Hello there  my name is  Prajwal  Bhongade \n"
     ]
    }
   ],
   "source": [
    "My_string = \"Hello there , my name is - Prajwal - Bhongade ?\"\n",
    "punc = '''?!.;'\"-,'''\n",
    "new_string = \"\"\n",
    "for i in My_string:\n",
    "    if i not in punc:\n",
    "        new_string = new_string + i\n",
    "print(new_string)"
   ]
  },
  {
   "cell_type": "code",
   "execution_count": null,
   "id": "5ae26fc7",
   "metadata": {},
   "outputs": [],
   "source": []
  }
 ],
 "metadata": {
  "kernelspec": {
   "display_name": "Python 3 (ipykernel)",
   "language": "python",
   "name": "python3"
  },
  "language_info": {
   "codemirror_mode": {
    "name": "ipython",
    "version": 3
   },
   "file_extension": ".py",
   "mimetype": "text/x-python",
   "name": "python",
   "nbconvert_exporter": "python",
   "pygments_lexer": "ipython3",
   "version": "3.9.12"
  }
 },
 "nbformat": 4,
 "nbformat_minor": 5
}
