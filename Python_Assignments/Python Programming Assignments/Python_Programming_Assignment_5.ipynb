{
 "cells": [
  {
   "cell_type": "markdown",
   "id": "e3d4d329",
   "metadata": {},
   "source": [
    "1. Write a Python Program to Find LCM?"
   ]
  },
  {
   "cell_type": "code",
   "execution_count": 2,
   "id": "84a46c65",
   "metadata": {},
   "outputs": [
    {
     "name": "stdout",
     "output_type": "stream",
     "text": [
      "The lcm is 72\n"
     ]
    }
   ],
   "source": [
    "def find_Lcm(x,y):\n",
    "    if x > y:\n",
    "        greater = x\n",
    "    else:\n",
    "        greater = y\n",
    "    while(True):\n",
    "        if((greater % x ==0) and (greater % y == 0)):\n",
    "            lcm = greater\n",
    "            break\n",
    "        greater = greater + 1\n",
    "    return lcm\n",
    "\n",
    "print(\"The lcm is\" ,find_Lcm(24,36))\n"
   ]
  },
  {
   "cell_type": "code",
   "execution_count": 3,
   "id": "030bc908",
   "metadata": {},
   "outputs": [
    {
     "name": "stdout",
     "output_type": "stream",
     "text": [
      "The HCF is 6\n"
     ]
    }
   ],
   "source": [
    "def find_hcf(x,y):\n",
    "    if x > y:\n",
    "        smaller = x\n",
    "    else:\n",
    "        smaller = y\n",
    "    for i in range(1,smaller+1):\n",
    "        if((x % i == 0) and (y % i == 0)):\n",
    "            hcf = i\n",
    "    return hcf\n",
    "\n",
    "print(\"The HCF is\",find_hcf(54,24))"
   ]
  },
  {
   "cell_type": "markdown",
   "id": "155c3503",
   "metadata": {},
   "source": [
    "3. Write a Python Program to Convert Decimal to Binary, Octal and Hexadecimal?"
   ]
  },
  {
   "cell_type": "code",
   "execution_count": 8,
   "id": "aa4086d9",
   "metadata": {},
   "outputs": [
    {
     "name": "stdout",
     "output_type": "stream",
     "text": [
      "Enter the decimal number\n",
      "24\n",
      "The binary num is  0b11000\n",
      "The octal number is  0o30\n",
      "The Hexadecimal is  0x18\n"
     ]
    }
   ],
   "source": [
    "def convert_number():\n",
    "    num = int(input(\"Enter the decimal number\\n\"))\n",
    "    binary = bin(num)\n",
    "    print(\"The binary num is \",binary)\n",
    "    octal = oct(num)\n",
    "    print(\"The octal number is \",octal)\n",
    "    hexa = hex(num)\n",
    "    print(\"The Hexadecimal is \",hexa)\n",
    "convert_number()\n",
    "    \n",
    "    \n",
    "    "
   ]
  },
  {
   "cell_type": "markdown",
   "id": "2307315d",
   "metadata": {},
   "source": [
    "4. Write a Python Program To Find ASCII value of a character?"
   ]
  },
  {
   "cell_type": "code",
   "execution_count": 12,
   "id": "4712d40e",
   "metadata": {},
   "outputs": [
    {
     "name": "stdout",
     "output_type": "stream",
     "text": [
      "Enter any character\n",
      "p\n",
      "The Ascii value of pis  112\n"
     ]
    }
   ],
   "source": [
    "def find_ascii():\n",
    "    char = input(\"Enter any character\\n\")\n",
    "    ascii_value = ord(char)\n",
    "    print(\"The Ascii value of \"+char+\"is \",ascii_value)\n",
    "find_ascii()"
   ]
  },
  {
   "cell_type": "markdown",
   "id": "3b33e108",
   "metadata": {},
   "source": [
    "5. Write a Python Program to Make a Simple Calculator with 4 basic mathematical operations?"
   ]
  },
  {
   "cell_type": "code",
   "execution_count": 13,
   "id": "0df97727",
   "metadata": {},
   "outputs": [
    {
     "name": "stdout",
     "output_type": "stream",
     "text": [
      "Enter the num1\n",
      "12\n",
      "Ente the num2\n",
      "4\n",
      "What you want to perform + , * , - , / ,+\n",
      "addition is  16\n"
     ]
    }
   ],
   "source": [
    "def addition(num1,num2):\n",
    "    result = num1  + num2\n",
    "    print(\"addition is \",result)\n",
    "def multiplication(num1,num2):\n",
    "    print()\n",
    "def sub(num1,num2):\n",
    "    result = num1 - num2\n",
    "def division(num1,num2):\n",
    "    result = num1 / num2\n",
    "    \n",
    "def user():\n",
    "    num1 = int(input(\"Enter the num1\\n\"))\n",
    "    num2 = int(input(\"Ente the num2\\n\"))\n",
    "    ask = input(\"What you want to perform + , * , - , / ,\")\n",
    "    if ask == '+':\n",
    "        addition(num1,num2)\n",
    "    elif ask == '*':\n",
    "        multiplication(num1,num2)\n",
    "    elif ask == '-':\n",
    "        sub(num1,num2)\n",
    "    elif ask == '/':\n",
    "        division(num1,num2)\n",
    "    \n",
    "user()"
   ]
  }
 ],
 "metadata": {
  "kernelspec": {
   "display_name": "Python 3 (ipykernel)",
   "language": "python",
   "name": "python3"
  },
  "language_info": {
   "codemirror_mode": {
    "name": "ipython",
    "version": 3
   },
   "file_extension": ".py",
   "mimetype": "text/x-python",
   "name": "python",
   "nbconvert_exporter": "python",
   "pygments_lexer": "ipython3",
   "version": "3.9.13"
  }
 },
 "nbformat": 4,
 "nbformat_minor": 5
}
