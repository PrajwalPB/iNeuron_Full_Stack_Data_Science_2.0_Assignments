{
 "cells": [
  {
   "cell_type": "markdown",
   "id": "862482df",
   "metadata": {},
   "source": [
    "# Question1\n",
    "Create a function that takes an integer and returns a list from 1 to the given number, where:\n",
    "1. If the number can be divided evenly by 4, amplify it by 10 (i.e. return 10 times the\n",
    "number).\n",
    "2. If the number cannot be divided evenly by 4, simply return the number.\n",
    "Examples\n",
    "amplify(4) ➞ [1, 2, 3, 40]\n",
    "amplify(3) ➞ [1, 2, 3]\n",
    "amplify(25) ➞ [1, 2, 3, 40, 5, 6, 7, 80, 9, 10, 11, 120, 13, 14, 15, 160,\n",
    "17, 18, 19, 200, 21, 22, 23, 240, 25]\n",
    "Notes\n",
    " The given integer will always be equal to or greater than 1.\n",
    " Include the number (see example above).\n",
    " To perform this problem with its intended purpose, try doing it with list\n",
    "comprehensions. If that&#39;s too difficult, just solve the challenge any way you can."
   ]
  },
  {
   "cell_type": "code",
   "execution_count": 1,
   "id": "802eb178",
   "metadata": {},
   "outputs": [
    {
     "name": "stdout",
     "output_type": "stream",
     "text": [
      "amplify(4) ➞[1, 2, 3, 40]\n",
      "amplify(3) ➞[1, 2, 3]\n",
      "amplify(25) ➞[1, 2, 3, 40, 5, 6, 7, 80, 9, 10, 11, 120, 13, 14, 15, 160, 17, 18, 19, 200, 21, 22, 23, 240, 25]\n"
     ]
    }
   ],
   "source": [
    "def amplify(n):\n",
    "    if n >=1:\n",
    "        nn = [i*10 if i%4==0 else i for i in range(1,n+1)]\n",
    "        return nn\n",
    "    else:\n",
    "        return \"Number should be grester of equal to 1\"\n",
    "        \n",
    "print(f'amplify(4) ➞{amplify(4)}')\n",
    "print(f'amplify(3) ➞{amplify(3)}')\n",
    "print(f'amplify(25) ➞{amplify(25)}')"
   ]
  },
  {
   "cell_type": "markdown",
   "id": "3aff9f64",
   "metadata": {},
   "source": [
    "# Question2\n",
    "Create a function that takes a list of numbers and return the number that&#39;s unique.\n",
    "Examples\n",
    "unique([3, 3, 3, 7, 3, 3]) ➞ 7\n",
    "unique([0, 0, 0.77, 0, 0]) ➞ 0.77\n",
    "unique([0, 1, 1, 1, 1, 1, 1, 1]) ➞ 0\n",
    "Notes\n",
    "Test cases will always have exactly one unique number while all others are the same."
   ]
  },
  {
   "cell_type": "code",
   "execution_count": 2,
   "id": "adad2ec1",
   "metadata": {},
   "outputs": [
    {
     "name": "stdout",
     "output_type": "stream",
     "text": [
      "unique([3, 3, 3, 7, 3, 3]) ➞7\n",
      "unique([[0, 0, 0.77, 0, 0]) ➞0.77\n",
      "unique([0, 1, 1, 1, 1, 1, 1, 1]) ➞0\n"
     ]
    }
   ],
   "source": [
    "def unique(numbers):\n",
    "    for i in numbers:\n",
    "        if numbers.count(i) < 2:\n",
    "            return i\n",
    "print(f'unique([3, 3, 3, 7, 3, 3]) ➞{unique([3, 3, 3, 7, 3, 3])}')\n",
    "print(f'unique([[0, 0, 0.77, 0, 0]) ➞{unique([0, 0, 0.77, 0, 0])}')\n",
    "print(f'unique([0, 1, 1, 1, 1, 1, 1, 1]) ➞{unique([0, 1, 1, 1, 1, 1, 1, 1])}') "
   ]
  },
  {
   "cell_type": "markdown",
   "id": "2720f0b6",
   "metadata": {},
   "source": [
    "# Question3\n",
    "Your task is to create a Circle constructor that creates a circle with a radius provided by an\n",
    "argument. The circles constructed must have two getters getArea() (PIr^2) and\n",
    "getPerimeter() (2PI*r) which give both respective areas and perimeter (circumference).\n",
    "\n",
    "For help with this class, I have provided you with a Rectangle constructor which you can use\n",
    "as a base example.\n",
    "Examples\n",
    "circy = Circle(11)\n",
    "circy.getArea()\n",
    " Should return 380.132711084365\n",
    "circy = Circle(4.44)\n",
    "circy.getPerimeter()\n",
    " Should return 27.897342763877365\n",
    "Notes\n",
    "Round results up to the nearest integer."
   ]
  },
  {
   "cell_type": "code",
   "execution_count": 3,
   "id": "3c4e7c43",
   "metadata": {},
   "outputs": [
    {
     "name": "stdout",
     "output_type": "stream",
     "text": [
      "380.1\n"
     ]
    },
    {
     "data": {
      "text/plain": [
       "27.9"
      ]
     },
     "execution_count": 3,
     "metadata": {},
     "output_type": "execute_result"
    }
   ],
   "source": [
    "import math\n",
    "class Circle():\n",
    "    def __init__(self,radius):\n",
    "        self.radius = radius\n",
    "    def getArea(self):\n",
    "        area = math.pi*(self.radius**2)\n",
    "        return round(area,1)\n",
    "    def getPerimeter(self):\n",
    "        perimeter = 2*math.pi*self.radius\n",
    "        return round(perimeter,1)\n",
    "    \n",
    "circy = Circle(11)\n",
    "print(circy.getArea())\n",
    "circy = Circle(4.44)\n",
    "circy.getPerimeter()"
   ]
  },
  {
   "cell_type": "markdown",
   "id": "2db15c89",
   "metadata": {},
   "source": [
    "# Question4\n",
    "Create a function that takes a list of strings and return a list, sorted from shortest to longest.\n",
    "Examples\n",
    "sort_by_length([&quot;Google&quot;, &quot;Apple&quot;, &quot;Microsoft&quot;])\n",
    "➞ [&quot;Apple&quot;, &quot;Google&quot;, &quot;Microsoft&quot;]\n",
    "sort_by_length([&quot;Leonardo&quot;, &quot;Michelangelo&quot;, &quot;Raphael&quot;, &quot;Donatello&quot;])\n",
    "➞ [&quot;Raphael&quot;, &quot;Leonardo&quot;, &quot;Donatello&quot;, &quot;Michelangelo&quot;]\n",
    "sort_by_length([&quot;Turing&quot;, &quot;Einstein&quot;, &quot;Jung&quot;])\n",
    "➞ [&quot;Jung&quot;, &quot;Turing&quot;, &quot;Einstein&quot;]\n",
    "Notes\n",
    "All test cases contain lists with strings of different lengths, so you won&#39;t have to deal with\n",
    "multiple strings of the same length."
   ]
  },
  {
   "cell_type": "code",
   "execution_count": 4,
   "id": "4790d388",
   "metadata": {},
   "outputs": [
    {
     "name": "stdout",
     "output_type": "stream",
     "text": [
      "sort_by_length([\"Google\", \"Apple\", \"Microsoft\"])➞['Apple', 'Google', 'Microsoft']\n",
      "sort_by_length([\"Leonardo\", \"Michelangelo\", \"Raphael\", \"Donatello\"]) ➞['Raphael', 'Leonardo', 'Donatello', 'Michelangelo']\n",
      "sort_by_length([\"Turing\", \"Einstein\", \"Jung\"])➞['Jung', 'Turing', 'Einstein']\n"
     ]
    }
   ],
   "source": [
    "def sort_by_length(lst):\n",
    "    lst2 = sorted(lst, key=len)\n",
    "    return lst2\n",
    "print(f'sort_by_length([\"Google\", \"Apple\", \"Microsoft\"])➞{sort_by_length([\"Google\", \"Apple\", \"Microsoft\"])}')\n",
    "print(f'sort_by_length([\"Leonardo\", \"Michelangelo\", \"Raphael\", \"Donatello\"]) ➞{sort_by_length([\"Leonardo\", \"Michelangelo\", \"Raphael\", \"Donatello\"])}')\n",
    "print(f'sort_by_length([\"Turing\", \"Einstein\", \"Jung\"])➞{sort_by_length([\"Turing\", \"Einstein\", \"Jung\"])}')"
   ]
  },
  {
   "cell_type": "markdown",
   "id": "3978e1b8",
   "metadata": {},
   "source": [
    "# Question5\n",
    "Create a function that validates whether three given integers form a Pythagorean triplet. The\n",
    "sum of the squares of the two smallest integers must equal the square of the largest number to\n",
    "be validated.\n",
    "\n",
    "Examples\n",
    "is_triplet(3, 4, 5) ➞ True\n",
    " 3² + 4² = 25\n",
    " 5² = 25\n",
    "is_triplet(13, 5, 12) ➞ True\n",
    " 5² + 12² = 169\n",
    " 13² = 169\n",
    "is_triplet(1, 2, 3) ➞ False\n",
    " 1² + 2² = 5\n",
    " 3² = 9\n",
    "Notes\n",
    "Numbers may not be given in a sorted order."
   ]
  },
  {
   "cell_type": "code",
   "execution_count": 5,
   "id": "4681d518",
   "metadata": {},
   "outputs": [
    {
     "name": "stdout",
     "output_type": "stream",
     "text": [
      "is_triplet(3, 4, 5) ➞True\n",
      "is_triplet(13, 5, 12) ➞True\n",
      "is_triplet(1, 2, 3) ➞False\n"
     ]
    }
   ],
   "source": [
    "def is_triplet(a,b,c): \n",
    "    l1 = []\n",
    "    l1.append(a)\n",
    "    l1.append(b)\n",
    "    l1.append(c)\n",
    "    l1.sort()\n",
    "    if l1[0]**2 + l1[1]**2 == l1[2]**2:\n",
    "        return True\n",
    "    else:\n",
    "        return False\n",
    "print(f'is_triplet(3, 4, 5) ➞{is_triplet(3, 4, 5)}')\n",
    "print(f'is_triplet(13, 5, 12) ➞{is_triplet(13, 5, 12)}')\n",
    "print(f'is_triplet(1, 2, 3) ➞{is_triplet(1, 2, 3)}')"
   ]
  }
 ],
 "metadata": {
  "kernelspec": {
   "display_name": "Python 3 (ipykernel)",
   "language": "python",
   "name": "python3"
  },
  "language_info": {
   "codemirror_mode": {
    "name": "ipython",
    "version": 3
   },
   "file_extension": ".py",
   "mimetype": "text/x-python",
   "name": "python",
   "nbconvert_exporter": "python",
   "pygments_lexer": "ipython3",
   "version": "3.9.13"
  }
 },
 "nbformat": 4,
 "nbformat_minor": 5
}
