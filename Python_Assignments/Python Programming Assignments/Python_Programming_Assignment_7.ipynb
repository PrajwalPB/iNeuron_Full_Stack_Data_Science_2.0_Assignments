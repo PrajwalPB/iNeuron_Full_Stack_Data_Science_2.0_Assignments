{
 "cells": [
  {
   "cell_type": "markdown",
   "id": "53406eea",
   "metadata": {},
   "source": [
    "1. Write a Python Program to find sum of array?\n"
   ]
  },
  {
   "cell_type": "code",
   "execution_count": 18,
   "id": "219d0fd6",
   "metadata": {},
   "outputs": [
    {
     "name": "stdout",
     "output_type": "stream",
     "text": [
      "Enter the size of array4\n",
      "1\n",
      "2\n",
      "3\n",
      "4\n",
      "array elements are [1 2 3 4]\n",
      "10\n"
     ]
    }
   ],
   "source": [
    "import numpy as np\n",
    "l1 = []\n",
    "sum = 0\n",
    "size = int(input(\"Enter the size of array\"))\n",
    "for i in range(0,size):\n",
    "    num = int(input())\n",
    "    l1.append(num)\n",
    "array = np.array(l1)\n",
    "print(\"array elements are\",array)\n",
    "for j in range(len(array)):\n",
    "    sum= sum + array[j]\n",
    "print(sum) \n"
   ]
  },
  {
   "cell_type": "code",
   "execution_count": 19,
   "id": "614a768a",
   "metadata": {},
   "outputs": [
    {
     "data": {
      "text/plain": [
       "10"
      ]
     },
     "execution_count": 19,
     "metadata": {},
     "output_type": "execute_result"
    }
   ],
   "source": [
    "array.sum()# Function for finding the sum of array elements"
   ]
  },
  {
   "cell_type": "markdown",
   "id": "202ce42e",
   "metadata": {},
   "source": [
    "2. Write a Python Program to find largest element in an array?"
   ]
  },
  {
   "cell_type": "code",
   "execution_count": 2,
   "id": "29043687",
   "metadata": {},
   "outputs": [
    {
     "name": "stdout",
     "output_type": "stream",
     "text": [
      "Enter the size of array4\n",
      "12\n",
      "3\n",
      "44\n",
      "5\n",
      "largest element in array is  44\n"
     ]
    }
   ],
   "source": [
    "import numpy as np\n",
    "l1 = []\n",
    "sum = 0\n",
    "size = int(input(\"Enter the size of array\"))\n",
    "for i in range(0,size):\n",
    "    num = int(input())\n",
    "    l1.append(num)\n",
    "array = np.array(l1)\n",
    "print(\"largest element in array is \",array.max())"
   ]
  },
  {
   "cell_type": "markdown",
   "id": "94db0806",
   "metadata": {},
   "source": [
    "3. Write a Python Program for array rotation?"
   ]
  },
  {
   "cell_type": "code",
   "execution_count": 8,
   "id": "69ee6456",
   "metadata": {},
   "outputs": [
    {
     "name": "stdout",
     "output_type": "stream",
     "text": [
      "[[1 2 3]\n",
      " [5 6 7]]\n",
      "[[3 7]\n",
      " [2 6]\n",
      " [1 5]]\n"
     ]
    }
   ],
   "source": [
    "array1 = np.array([[1,2,3],[5,6,7]])\n",
    "print(array1)\n",
    "rotate_array = np.rot90(array1)\n",
    "print(rotate_array)"
   ]
  },
  {
   "cell_type": "markdown",
   "id": "b856cd09",
   "metadata": {},
   "source": [
    "4. Write a Python Program to Split the array and add the first part to the end?"
   ]
  },
  {
   "cell_type": "code",
   "execution_count": 10,
   "id": "9574ce64",
   "metadata": {},
   "outputs": [
    {
     "name": "stdout",
     "output_type": "stream",
     "text": [
      "[3, 4, 5, 6, 7, 1, 2]\n"
     ]
    }
   ],
   "source": [
    "def arrray_split(arr,n,split):\n",
    "    for i in range(0,split):\n",
    "        x = arr[0]\n",
    "        for j in range(0,n-1):\n",
    "            arr[j] = arr[j+1]\n",
    "        arr[n-1] = x\n",
    "arr = [1,2,3,4,5,6,7]\n",
    "n = len(arr)\n",
    "split = 2\n",
    "arrray_split(arr,n,split)\n",
    "print(arr)"
   ]
  },
  {
   "cell_type": "markdown",
   "id": "90bdfaad",
   "metadata": {},
   "source": [
    "5. Write a Python Program to check if given array is Monotonic?"
   ]
  },
  {
   "cell_type": "code",
   "execution_count": 18,
   "id": "1e210511",
   "metadata": {},
   "outputs": [
    {
     "name": "stdout",
     "output_type": "stream",
     "text": [
      "Monotonic \n"
     ]
    }
   ],
   "source": [
    "import numpy as np\n",
    "def monotonics():\n",
    "    ar = [1,2,3,4,5]\n",
    "    arrayy = np.array(ar)\n",
    "    if np.all(np.diff(arrayy ) > 0):\n",
    "        print(\"Monotonic \")\n",
    "    else:\n",
    "        print(\"false\")\n",
    "monotonics()"
   ]
  },
  {
   "cell_type": "code",
   "execution_count": null,
   "id": "9d41c103",
   "metadata": {},
   "outputs": [],
   "source": []
  }
 ],
 "metadata": {
  "kernelspec": {
   "display_name": "Python 3 (ipykernel)",
   "language": "python",
   "name": "python3"
  },
  "language_info": {
   "codemirror_mode": {
    "name": "ipython",
    "version": 3
   },
   "file_extension": ".py",
   "mimetype": "text/x-python",
   "name": "python",
   "nbconvert_exporter": "python",
   "pygments_lexer": "ipython3",
   "version": "3.9.13"
  }
 },
 "nbformat": 4,
 "nbformat_minor": 5
}
