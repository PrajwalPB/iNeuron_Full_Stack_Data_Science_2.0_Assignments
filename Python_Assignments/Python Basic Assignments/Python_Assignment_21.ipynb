{
 "cells": [
  {
   "cell_type": "markdown",
   "id": "82d5376a",
   "metadata": {},
   "source": [
    "1. Add the current date to the text file today.txt as a string."
   ]
  },
  {
   "cell_type": "code",
   "execution_count": 17,
   "id": "639c16cf",
   "metadata": {},
   "outputs": [],
   "source": [
    "from datetime import date\n",
    "today = date.today()\n",
    "d1 = today.strftime(\"%d/%m/%Y\")\n",
    "with open(\"today.txt\",\"w\") as file1:\n",
    "    file1.write(d1)"
   ]
  },
  {
   "cell_type": "code",
   "execution_count": 19,
   "id": "078e46b0",
   "metadata": {},
   "outputs": [
    {
     "name": "stdout",
     "output_type": "stream",
     "text": [
      "28/01/2023\n"
     ]
    }
   ],
   "source": [
    "with open('today.txt','r') as f1:\n",
    "    r = f1.read()\n",
    "    print(r)"
   ]
  },
  {
   "cell_type": "markdown",
   "id": "437a40bf",
   "metadata": {},
   "source": [
    "2. Read the text file today.txt into the string today_string"
   ]
  },
  {
   "cell_type": "code",
   "execution_count": 20,
   "id": "517a91ca",
   "metadata": {},
   "outputs": [
    {
     "name": "stdout",
     "output_type": "stream",
     "text": [
      "28/01/2023\n"
     ]
    }
   ],
   "source": [
    "with open('today.txt','r') as file2:\n",
    "    today_string = file2.read()\n",
    "    print(today_string)"
   ]
  },
  {
   "cell_type": "markdown",
   "id": "fcd2a7e2",
   "metadata": {},
   "source": [
    "3. Parse the date from today_string."
   ]
  },
  {
   "cell_type": "code",
   "execution_count": 29,
   "id": "aec14e8c",
   "metadata": {},
   "outputs": [
    {
     "name": "stdout",
     "output_type": "stream",
     "text": [
      "2023-01-28 00:00:00\n"
     ]
    }
   ],
   "source": [
    "from datetime import datetime\n",
    "parsed_data = datetime.strptime(today_string,\"%d/%m/%Y\")\n",
    "print(parsed_data)"
   ]
  },
  {
   "cell_type": "markdown",
   "id": "5e237fa7",
   "metadata": {},
   "source": [
    "4. List the files in your current directory"
   ]
  },
  {
   "cell_type": "code",
   "execution_count": 30,
   "id": "4d9d909e",
   "metadata": {},
   "outputs": [
    {
     "name": "stdout",
     "output_type": "stream",
     "text": [
      " Volume in drive C is Operating System\n",
      " Volume Serial Number is 0601-25FE\n",
      "\n",
      " Directory of C:\\Users\\Prajwal\n",
      "\n",
      "28-01-2023  11:31    <DIR>          .\n",
      "28-01-2023  11:31    <DIR>          ..\n",
      "29-09-2022  08:50    <DIR>          .android\n",
      "21-01-2023  17:46    <DIR>          .astropy\n",
      "08-10-2021  00:00                14 .bash_history\n",
      "21-09-2021  00:07    <DIR>          .cache\n",
      "23-01-2023  12:12    <DIR>          .conda\n",
      "17-12-2022  15:32                25 .condarc\n",
      "17-12-2022  15:32    <DIR>          .continuum\n",
      "19-01-2023  10:49    <DIR>          .cufflinks\n",
      "10-10-2021  16:14    <DIR>          .eclipse\n",
      "23-10-2021  16:24                64 .gitconfig\n",
      "28-01-2023  11:09    <DIR>          .ipynb_checkpoints\n",
      "29-11-2022  13:47    <DIR>          .ipython\n",
      "06-12-2022  11:14    <DIR>          .jupyter\n",
      "16-04-2022  11:07    <DIR>          .keras\n",
      "08-10-2021  00:36    <DIR>          .m2\n",
      "22-12-2022  23:18    <DIR>          .matplotlib\n",
      "29-09-2022  00:46    <DIR>          .p2\n",
      "13-10-2021  14:21               172 .packettracer\n",
      "10-08-2022  11:24               735 .popsql.json\n",
      "25-01-2021  10:39    <DIR>          .QtWebEngineProcess\n",
      "22-08-2022  22:05    <DIR>          .sts4\n",
      "26-05-2021  15:16    <DIR>          .thumbnails\n",
      "27-10-2021  00:11    <DIR>          .VirtualBox\n",
      "16-05-2021  13:18    <DIR>          .vscode\n",
      "25-01-2021  10:39    <DIR>          .Waves Central\n",
      "29-12-2022  10:44    <DIR>          __pycache__\n",
      "04-04-2021  23:33    <DIR>          3D Objects\n",
      "27-05-2022  11:53             1,173 addresses.csv\n",
      "27-01-2023  20:40            16,384 airline.xls\n",
      "27-01-2023  20:44            32,256 airline1.xls\n",
      "27-01-2023  20:57               607 airline1_sheet3.csv\n",
      "18-01-2021  05:04         2,701,052 AMD_RyzenMaster.log\n",
      "18-01-2021  05:04             3,601 AMDRM_Install.log\n",
      "29-11-2022  13:45    <DIR>          anaconda3\n",
      "18-01-2021  02:49    <DIR>          ansel\n",
      "19-01-2023  11:13                72 API.ipynb\n",
      "22-12-2022  11:31                71 assignment.csv\n",
      "25-01-2023  12:37               188 books.csv\n",
      "25-01-2023  12:41             8,192 books.db\n",
      "25-01-2023  12:36               155 books2.csv\n",
      "23-12-2022  13:06         3,208,815 business.csv\n",
      "07-12-2022  15:22            51,867 car.data\n",
      "17-12-2022  13:33             3,174 casandra.ipynb\n",
      "21-12-2022  15:18            20,448 cassandra_connect.ipynb\n",
      "09-10-2021  11:36    <DIR>          Cisco Packet Tracer 8.0\n",
      "19-11-2020  13:29    <DIR>          Contacts\n",
      "27-05-2022  11:53             1,589 contacts.csv\n",
      "23-01-2021  19:10    <DIR>          Creative Cloud Files\n",
      "24-12-2022  10:44             5,845 cricket.csv\n",
      "28-01-2023  11:08    <DIR>          Desktop\n",
      "26-01-2023  12:55    <DIR>          Documents\n",
      "28-01-2023  00:41    <DIR>          Downloads\n",
      "05-08-2021  11:51    <DIR>          Dropbox\n",
      "19-11-2020  13:29    <DIR>          Favorites\n",
      "06-12-2022  13:50            11,903 glass.data\n",
      "27-05-2022  11:53               277 holiday_schedules.csv\n",
      "01-12-2022  12:41    <DIR>          IdeaProjects\n",
      "25-11-2022  22:55         1,054,452 image.png\n",
      "15-12-2022  17:38             8,192 ineuron.db\n",
      "15-12-2022  18:36            12,288 jobdb\n",
      "24-12-2022  13:28            35,142 json_res.csv\n",
      "19-11-2020  13:29    <DIR>          Links\n",
      "27-05-2022  11:53            18,015 locations.csv\n",
      "23-12-2022  13:29           161,651 LUSID Excel - Business Agility - Making Simple Changes Quickly & Easily.xlsx\n",
      "23-12-2022  13:29           161,410 LUSID Excel - Maintain a product in multiple currencies and share classes.xlsx\n",
      "23-12-2022  13:29            95,503 LUSID Excel - Manage instruments with economic definitions.xlsx\n",
      "23-12-2022  13:29            84,319 LUSID Excel - Manage Orders.xlsx\n",
      "23-12-2022  13:29           137,753 LUSID Excel - Manage your investment strategies.xlsx\n",
      "23-12-2022  13:29           184,013 LUSID Excel - Setting up your IBOR.xlsx\n",
      "23-12-2022  13:29           136,632 LUSID Excel - Setting up your market data.xlsx\n",
      "27-05-2022  11:53             1,610 mail_addresses.csv\n",
      "13-12-2022  23:37            28,020 mongodb_python.ipynb\n",
      "20-11-2022  20:02    <DIR>          Music\n",
      "24-12-2022  10:34            81,562 NBA.csv\n",
      "09-01-2023  17:00            64,680 Numpy.ipynb\n",
      "02-08-2021  12:35    <DIR>          OneDrive\n",
      "27-05-2022  11:53             2,281 organizations.csv\n",
      "24-12-2022  18:14           481,728 pandas day 2.ipynb\n",
      "24-12-2022  18:52           520,347 pandas.ipynb\n",
      "02-01-2023  21:34           677,118 Pandas_data_Analysispart1.ipynb\n",
      "31-12-2022  14:03               589 Pandasd_class_part2.ipynb\n",
      "15-12-2022  17:36             8,192 person.db\n",
      "27-05-2022  11:53             2,092 phones.csv\n",
      "16-08-2022  18:06    <DIR>          Pictures\n",
      "27-01-2023  21:17            81,552 player.csv\n",
      "19-01-2023  11:26    <DIR>          Postman\n",
      "27-05-2022  11:53                60 programs.csv\n",
      "19-01-2023  14:49    <DIR>          PycharmProjects\n",
      "28-12-2022  12:55             9,868 Python_Assignmen_16.ipynb\n",
      "22-12-2022  11:52             6,394 Python_Assignment_13.ipynb\n",
      "22-12-2022  12:56             5,212 Python_Assignment_14.ipynb\n",
      "29-12-2022  10:56             4,589 Python_Assignment_18.ipynb\n",
      "25-01-2023  14:00            33,576 Python_Assignment_20.ipynb\n",
      "28-12-2022  19:04             8,725 Python_Assignments_17.ipynb\n",
      "06-12-2022  14:47           102,291 python_mysql_connection.ipynb\n",
      "07-12-2022  10:12            90,344 python_sql_class2.ipynb\n",
      "27-05-2022  11:53               350 regular_schedules.csv\n",
      "22-12-2022  21:58               179 sample_test.csv\n",
      "19-11-2020  13:29    <DIR>          Saved Games\n",
      "23-01-2023  13:16           467,302 scrspper app.ipynb\n",
      "19-01-2023  10:52    <DIR>          seaborn-data\n",
      "19-11-2020  13:30    <DIR>          Searches\n",
      "27-05-2022  11:53            19,128 services.csv\n",
      "19-02-2022  16:10    <DIR>          source\n",
      "01-05-2022  01:45    <DIR>          Spitfire\n",
      "15-12-2022  19:35            45,337 sqlite,maoreducefilter.ipynb\n",
      "27-05-2022  11:53            14,618 taxonomy.csv\n",
      "25-01-2023  12:19                44 test.txt\n",
      "28-01-2023  11:22                10 today.txt\n",
      "08-12-2022  12:34           176,896 Untitled.ipynb\n",
      "09-12-2022  12:09                72 Untitled1.ipynb\n",
      "21-01-2023  10:08               589 Untitled10.ipynb\n",
      "23-01-2023  11:41               886 Untitled11.ipynb\n",
      "23-01-2023  12:09             2,777 Untitled12.ipynb\n",
      "27-01-2023  20:09                72 Untitled13.ipynb\n",
      "27-01-2023  21:21           154,826 Untitled14.ipynb\n",
      "28-01-2023  10:17             1,394 Untitled15.ipynb\n",
      "28-01-2023  11:31             4,541 Untitled16.ipynb\n",
      "22-12-2022  21:04                72 Untitled2.ipynb\n",
      "22-12-2022  23:22            21,178 Untitled3.ipynb\n",
      "31-12-2022  18:17                72 Untitled4.ipynb\n",
      "28-12-2022  18:14                72 Untitled5.ipynb\n",
      "03-01-2023  13:01             3,087 Untitled6.ipynb\n",
      "08-01-2023  17:13             8,361 Untitled7.ipynb\n",
      "19-01-2023  10:56           931,243 Untitled8.ipynb\n",
      "20-01-2023  10:29                72 Untitled9.ipynb\n",
      "24-12-2022  18:46            29,301 user_details.csv\n",
      "18-01-2021  04:40    <DIR>          Videos\n",
      "29-07-2021  08:29    <DIR>          VirtualBox VMs\n",
      "29-12-2022  10:43                39 zoo.py\n",
      "              84 File(s)     12,251,397 bytes\n",
      "              48 Dir(s)  16,867,233,792 bytes free\n"
     ]
    }
   ],
   "source": [
    "ls"
   ]
  },
  {
   "cell_type": "markdown",
   "id": "df362c4d",
   "metadata": {},
   "source": [
    "5. Create a list of all of the files in your parent directory (minimum five files should be available)."
   ]
  },
  {
   "cell_type": "code",
   "execution_count": 33,
   "id": "2ba15d4b",
   "metadata": {},
   "outputs": [
    {
     "data": {
      "text/plain": [
       "['.android',\n",
       " '.astropy',\n",
       " '.bash_history',\n",
       " '.cache',\n",
       " '.conda',\n",
       " '.condarc',\n",
       " '.continuum',\n",
       " '.cufflinks',\n",
       " '.eclipse',\n",
       " '.gitconfig',\n",
       " '.ipynb_checkpoints',\n",
       " '.ipython',\n",
       " '.jupyter',\n",
       " '.keras',\n",
       " '.m2',\n",
       " '.matplotlib',\n",
       " '.p2',\n",
       " '.packettracer',\n",
       " '.popsql.json',\n",
       " '.QtWebEngineProcess',\n",
       " '.sts4',\n",
       " '.thumbnails',\n",
       " '.VirtualBox',\n",
       " '.vscode',\n",
       " '.Waves Central',\n",
       " '3D Objects',\n",
       " 'addresses.csv',\n",
       " 'airline.xls',\n",
       " 'airline1.xls',\n",
       " 'airline1_sheet3.csv',\n",
       " 'AMDRM_Install.log',\n",
       " 'AMD_RyzenMaster.log',\n",
       " 'anaconda3',\n",
       " 'ansel',\n",
       " 'API.ipynb',\n",
       " 'AppData',\n",
       " 'Application Data',\n",
       " 'assignment.csv',\n",
       " 'books.csv',\n",
       " 'books.db',\n",
       " 'books2.csv',\n",
       " 'business.csv',\n",
       " 'car.data',\n",
       " 'casandra.ipynb',\n",
       " 'cassandra_connect.ipynb',\n",
       " 'Cisco Packet Tracer 8.0',\n",
       " 'Contacts',\n",
       " 'contacts.csv',\n",
       " 'Cookies',\n",
       " 'Creative Cloud Files',\n",
       " 'cricket.csv',\n",
       " 'Desktop',\n",
       " 'Documents',\n",
       " 'Downloads',\n",
       " 'Dropbox',\n",
       " 'Favorites',\n",
       " 'glass.data',\n",
       " 'holiday_schedules.csv',\n",
       " 'IdeaProjects',\n",
       " 'image.png',\n",
       " 'ineuron.db',\n",
       " 'jobdb',\n",
       " 'json_res.csv',\n",
       " 'Links',\n",
       " 'Local Settings',\n",
       " 'locations.csv',\n",
       " 'LUSID Excel - Business Agility - Making Simple Changes Quickly & Easily.xlsx',\n",
       " 'LUSID Excel - Maintain a product in multiple currencies and share classes.xlsx',\n",
       " 'LUSID Excel - Manage instruments with economic definitions.xlsx',\n",
       " 'LUSID Excel - Manage Orders.xlsx',\n",
       " 'LUSID Excel - Manage your investment strategies.xlsx',\n",
       " 'LUSID Excel - Setting up your IBOR.xlsx',\n",
       " 'LUSID Excel - Setting up your market data.xlsx',\n",
       " 'mail_addresses.csv',\n",
       " 'mongodb_python.ipynb',\n",
       " 'Music',\n",
       " 'My Documents',\n",
       " 'NBA.csv',\n",
       " 'NetHood',\n",
       " 'ntuser.dat',\n",
       " 'ntuser.dat.log1',\n",
       " 'ntuser.dat.log2',\n",
       " 'ntuser.dat{09d77996-70d2-11eb-babb-00e04c19a5a1}.TM.blf',\n",
       " 'ntuser.dat{09d77996-70d2-11eb-babb-00e04c19a5a1}.TMContainer00000000000000000001.regtrans-ms',\n",
       " 'ntuser.dat{09d77996-70d2-11eb-babb-00e04c19a5a1}.TMContainer00000000000000000002.regtrans-ms',\n",
       " 'NTUSER.DAT{53b39e88-18c4-11ea-a811-000d3aa4692b}.TM.blf',\n",
       " 'NTUSER.DAT{53b39e88-18c4-11ea-a811-000d3aa4692b}.TMContainer00000000000000000001.regtrans-ms',\n",
       " 'NTUSER.DAT{53b39e88-18c4-11ea-a811-000d3aa4692b}.TMContainer00000000000000000002.regtrans-ms',\n",
       " 'ntuser.ini',\n",
       " 'Numpy.ipynb',\n",
       " 'OneDrive',\n",
       " 'organizations.csv',\n",
       " 'pandas day 2.ipynb',\n",
       " 'pandas.ipynb',\n",
       " 'Pandasd_class_part2.ipynb',\n",
       " 'Pandas_data_Analysispart1.ipynb',\n",
       " 'person.db',\n",
       " 'phones.csv',\n",
       " 'Pictures',\n",
       " 'player.csv',\n",
       " 'Postman',\n",
       " 'PrintHood',\n",
       " 'programs.csv',\n",
       " 'PycharmProjects',\n",
       " 'Python_Assignments_17.ipynb',\n",
       " 'Python_Assignment_13.ipynb',\n",
       " 'Python_Assignment_14.ipynb',\n",
       " 'Python_Assignment_18.ipynb',\n",
       " 'Python_Assignment_20.ipynb',\n",
       " 'Python_Assignmen_16.ipynb',\n",
       " 'python_mysql_connection.ipynb',\n",
       " 'python_sql_class2.ipynb',\n",
       " 'Recent',\n",
       " 'regular_schedules.csv',\n",
       " 'sample_test.csv',\n",
       " 'Saved Games',\n",
       " 'scrspper app.ipynb',\n",
       " 'seaborn-data',\n",
       " 'Searches',\n",
       " 'SendTo',\n",
       " 'services.csv',\n",
       " 'source',\n",
       " 'Spitfire',\n",
       " 'sqlite,maoreducefilter.ipynb',\n",
       " 'Start Menu',\n",
       " 'taxonomy.csv',\n",
       " 'Templates',\n",
       " 'test.txt',\n",
       " 'today.txt',\n",
       " 'Untitled.ipynb',\n",
       " 'Untitled1.ipynb',\n",
       " 'Untitled10.ipynb',\n",
       " 'Untitled11.ipynb',\n",
       " 'Untitled12.ipynb',\n",
       " 'Untitled13.ipynb',\n",
       " 'Untitled14.ipynb',\n",
       " 'Untitled15.ipynb',\n",
       " 'Untitled16.ipynb',\n",
       " 'Untitled2.ipynb',\n",
       " 'Untitled3.ipynb',\n",
       " 'Untitled4.ipynb',\n",
       " 'Untitled5.ipynb',\n",
       " 'Untitled6.ipynb',\n",
       " 'Untitled7.ipynb',\n",
       " 'Untitled8.ipynb',\n",
       " 'Untitled9.ipynb',\n",
       " 'user_details.csv',\n",
       " 'Videos',\n",
       " 'VirtualBox VMs',\n",
       " 'zoo.py',\n",
       " '__pycache__']"
      ]
     },
     "execution_count": 33,
     "metadata": {},
     "output_type": "execute_result"
    }
   ],
   "source": [
    "import os\n",
    "os.listdir()"
   ]
  },
  {
   "cell_type": "markdown",
   "id": "8ea6a2dd",
   "metadata": {},
   "source": [
    "6. Use multiprocessing to create three separate processes. Make each one wait a random number of\n",
    "seconds between one and five, print the current time, and then exit."
   ]
  },
  {
   "cell_type": "code",
   "execution_count": 34,
   "id": "9ce7d9d6",
   "metadata": {},
   "outputs": [
    {
     "name": "stdout",
     "output_type": "stream",
     "text": [
      "Number of cpu :  12\n"
     ]
    }
   ],
   "source": [
    "import multiprocessing\n",
    "\n",
    "print(\"Number of cpu : \", multiprocessing.cpu_count())"
   ]
  },
  {
   "cell_type": "code",
   "execution_count": null,
   "id": "2b20e1cb",
   "metadata": {},
   "outputs": [],
   "source": [
    "import multiprocessing\n",
    "import random\n",
    "import time\n",
    "import datetime\n",
    "\n",
    "def process_one():\n",
    "    print(f'process one started{datetime.datetime.now()}')\n",
    "    work_time = random.choice(range(1,5))\n",
    "    time.sleep(work_time)\n",
    "    print(f'process finished in{work_time}seconds')\n",
    "    \n",
    "def process_two():\n",
    "    print(f'process two started{datetime.datetime.now()}')\n",
    "    work_time = random.choice(range(1,5))\n",
    "    time.sleep(work_time)\n",
    "    print(f'process finished in{work_time}seconds')\n",
    "\n",
    "def process_three():\n",
    "    print(f'process three started{datetime.datetime.now()}')\n",
    "    work_time = random.choice(range(1,5))\n",
    "    time.sleep(work_time)\n",
    "    print(f'process finished in{work_time}seconds')\n",
    "    \n",
    "if __name__ == '__main__':\n",
    "    p1 = multiprocessing.Process(target=process_one)\n",
    "    p2 = multiprocessing.Process(target=process_two)\n",
    "    p3 = multiprocessing.Process(target=process_three)\n",
    "\n",
    "    p1.start()\n",
    "    p2.start()\n",
    "    p3.start()\n",
    "\n",
    "    p1.join()\n",
    "    p2.join()\n",
    "    p3.join()\n",
    "    "
   ]
  },
  {
   "cell_type": "markdown",
   "id": "8251b7ed",
   "metadata": {},
   "source": [
    "#after running code output was not showing in jupyter notebook , this output is from running code in visual studio\n",
    "process two started2023-01-28 12:14:15.090914\n",
    "process one started2023-01-28 12:14:15.090914  \n",
    "process three started2023-01-28 12:14:15.090914\n",
    "process finished in1seconds\n",
    "process finished in2seconds\n",
    "process finished in4seconds"
   ]
  },
  {
   "cell_type": "markdown",
   "id": "71bc3d9c",
   "metadata": {},
   "source": [
    "7. Create a date object of your day of birth."
   ]
  },
  {
   "cell_type": "code",
   "execution_count": 38,
   "id": "5c3503e2",
   "metadata": {},
   "outputs": [
    {
     "name": "stdout",
     "output_type": "stream",
     "text": [
      "1999-04-28 00:00:00\n"
     ]
    }
   ],
   "source": [
    "from datetime import datetime\n",
    "dob = datetime.strptime('28/04/1999','%d/%m/%Y')\n",
    "print(dob)"
   ]
  },
  {
   "cell_type": "markdown",
   "id": "a6da5861",
   "metadata": {},
   "source": [
    "8. What day of the week was your day of birth?"
   ]
  },
  {
   "cell_type": "code",
   "execution_count": 40,
   "id": "feae57fa",
   "metadata": {},
   "outputs": [
    {
     "data": {
      "text/plain": [
       "'Wednesday'"
      ]
     },
     "execution_count": 40,
     "metadata": {},
     "output_type": "execute_result"
    }
   ],
   "source": [
    "dob = datetime(1999,4,28)\n",
    "dob.strftime(\"%A\")"
   ]
  },
  {
   "cell_type": "markdown",
   "id": "d86eded0",
   "metadata": {},
   "source": [
    "9. When will you be (or when were you) 10,000 days old?"
   ]
  },
  {
   "cell_type": "code",
   "execution_count": 43,
   "id": "a13ed2b2",
   "metadata": {},
   "outputs": [
    {
     "data": {
      "text/plain": [
       "datetime.datetime(1971, 12, 11, 0, 0)"
      ]
     },
     "execution_count": 43,
     "metadata": {},
     "output_type": "execute_result"
    }
   ],
   "source": [
    "from datetime import datetime, timedelta\n",
    "dob = datetime.strptime(\"28/04/1999\",'%d/%m/%Y')\n",
    "new_dob= my_dob-timedelta(10000)\n",
    "new_dob"
   ]
  },
  {
   "cell_type": "code",
   "execution_count": null,
   "id": "c7064c36",
   "metadata": {},
   "outputs": [],
   "source": []
  }
 ],
 "metadata": {
  "kernelspec": {
   "display_name": "Python 3 (ipykernel)",
   "language": "python",
   "name": "python3"
  },
  "language_info": {
   "codemirror_mode": {
    "name": "ipython",
    "version": 3
   },
   "file_extension": ".py",
   "mimetype": "text/x-python",
   "name": "python",
   "nbconvert_exporter": "python",
   "pygments_lexer": "ipython3",
   "version": "3.9.13"
  }
 },
 "nbformat": 4,
 "nbformat_minor": 5
}
