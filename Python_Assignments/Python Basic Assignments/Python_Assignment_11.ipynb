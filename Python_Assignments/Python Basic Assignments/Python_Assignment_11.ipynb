{
 "cells": [
  {
   "cell_type": "code",
   "execution_count": null,
   "id": "7cc39044",
   "metadata": {},
   "outputs": [],
   "source": [
    "1. Create an assert statement that throws an AssertionError if the variable spam is a negative\n",
    "integer.\n",
    "2. Write an assert statement that triggers an AssertionError if the variables eggs and bacon contain\n",
    "strings that are the same as each other, even if their cases are different (that is, &#39;hello&#39; and &#39;hello&#39; are\n",
    "considered the same, and &#39;goodbye&#39; and &#39;GOODbye&#39; are also considered the same).\n",
    "3. Create an assert statement that throws an AssertionError every time.\n",
    "4. What are the two lines that must be present in your software in order to call logging.debug()?\n",
    "5. What are the two lines that your program must have in order to have logging.debug() send a\n",
    "logging message to a file named programLog.txt?\n",
    "6. What are the five levels of logging?\n",
    "7. What line of code would you add to your software to disable all logging messages?\n",
    "8.Why is using logging messages better than using print() to display the same message?\n",
    "9. What are the differences between the Step Over, Step In, and Step Out buttons in the debugger?\n",
    "10.After you click Continue, when will the debugger stop ?\n",
    "11. What is the concept of a breakpoint?"
   ]
  },
  {
   "cell_type": "code",
   "execution_count": 6,
   "id": "550f4567",
   "metadata": {},
   "outputs": [
    {
     "name": "stdout",
     "output_type": "stream",
     "text": [
      "Enter the number \n",
      "-12\n"
     ]
    },
    {
     "ename": "AssertionError",
     "evalue": "Please enter the positive number",
     "output_type": "error",
     "traceback": [
      "\u001b[1;31m---------------------------------------------------------------------------\u001b[0m",
      "\u001b[1;31mAssertionError\u001b[0m                            Traceback (most recent call last)",
      "Input \u001b[1;32mIn [6]\u001b[0m, in \u001b[0;36m<cell line: 2>\u001b[1;34m()\u001b[0m\n\u001b[0;32m      1\u001b[0m spam \u001b[38;5;241m=\u001b[39m \u001b[38;5;28mint\u001b[39m(\u001b[38;5;28minput\u001b[39m(\u001b[38;5;124m\"\u001b[39m\u001b[38;5;124mEnter the number \u001b[39m\u001b[38;5;130;01m\\n\u001b[39;00m\u001b[38;5;124m\"\u001b[39m))\n\u001b[1;32m----> 2\u001b[0m \u001b[38;5;28;01massert\u001b[39;00m spam \u001b[38;5;241m>\u001b[39m \u001b[38;5;241m0\u001b[39m , \u001b[38;5;124m\"\u001b[39m\u001b[38;5;124mPlease enter the positive number\u001b[39m\u001b[38;5;124m\"\u001b[39m\n\u001b[0;32m      3\u001b[0m \u001b[38;5;28mprint\u001b[39m(\u001b[38;5;124mf\u001b[39m\u001b[38;5;124m'\u001b[39m\u001b[38;5;124mThe numberis \u001b[39m\u001b[38;5;132;01m{\u001b[39;00mspam\u001b[38;5;132;01m}\u001b[39;00m\u001b[38;5;124m'\u001b[39m)\n",
      "\u001b[1;31mAssertionError\u001b[0m: Please enter the positive number"
     ]
    }
   ],
   "source": [
    "spam = int(input(\"Enter the number \\n\"))\n",
    "assert spam > 0 , \"Please enter the positive number\"\n",
    "print(f'The numberis {spam}')"
   ]
  },
  {
   "cell_type": "code",
   "execution_count": null,
   "id": "2d002419",
   "metadata": {},
   "outputs": [],
   "source": [
    "2. Write an assert statement that triggers an AssertionError if the variables eggs and bacon contain\n",
    "strings that are the same as each other, even if their cases are different (that is, &#39;hello&#39; and &#39;hello&#39; are\n",
    "considered the same, and &#39;goodbye&#39; and &#39;GOODbye&#39; are also considered the same).def r"
   ]
  },
  {
   "cell_type": "code",
   "execution_count": 9,
   "id": "a6f014d2",
   "metadata": {},
   "outputs": [
    {
     "ename": "AssertionError",
     "evalue": "error eggs and bacon strigs cannot be same",
     "output_type": "error",
     "traceback": [
      "\u001b[1;31m---------------------------------------------------------------------------\u001b[0m",
      "\u001b[1;31mAssertionError\u001b[0m                            Traceback (most recent call last)",
      "Input \u001b[1;32mIn [9]\u001b[0m, in \u001b[0;36m<cell line: 6>\u001b[1;34m()\u001b[0m\n\u001b[0;32m      3\u001b[0m     bacon \u001b[38;5;241m=\u001b[39m bacon\u001b[38;5;241m.\u001b[39mupper()\n\u001b[0;32m      4\u001b[0m     \u001b[38;5;28;01massert\u001b[39;00m eggs \u001b[38;5;241m!=\u001b[39m bacon , \u001b[38;5;124m'\u001b[39m\u001b[38;5;124merror eggs and bacon strigs cannot be same\u001b[39m\u001b[38;5;124m'\u001b[39m\n\u001b[1;32m----> 6\u001b[0m \u001b[43massert_error\u001b[49m\u001b[43m(\u001b[49m\u001b[38;5;124;43m'\u001b[39;49m\u001b[38;5;124;43m&#39;goodbye&#39;\u001b[39;49m\u001b[38;5;124;43m'\u001b[39;49m\u001b[43m,\u001b[49m\u001b[38;5;124;43m'\u001b[39;49m\u001b[38;5;124;43m&#39;GOODbye&#39;\u001b[39;49m\u001b[38;5;124;43m'\u001b[39;49m\u001b[43m)\u001b[49m\n",
      "Input \u001b[1;32mIn [9]\u001b[0m, in \u001b[0;36massert_error\u001b[1;34m(eggs, bacon)\u001b[0m\n\u001b[0;32m      2\u001b[0m eggs \u001b[38;5;241m=\u001b[39m eggs\u001b[38;5;241m.\u001b[39mupper()\n\u001b[0;32m      3\u001b[0m bacon \u001b[38;5;241m=\u001b[39m bacon\u001b[38;5;241m.\u001b[39mupper()\n\u001b[1;32m----> 4\u001b[0m \u001b[38;5;28;01massert\u001b[39;00m eggs \u001b[38;5;241m!=\u001b[39m bacon , \u001b[38;5;124m'\u001b[39m\u001b[38;5;124merror eggs and bacon strigs cannot be same\u001b[39m\u001b[38;5;124m'\u001b[39m\n",
      "\u001b[1;31mAssertionError\u001b[0m: error eggs and bacon strigs cannot be same"
     ]
    }
   ],
   "source": [
    "def assert_error(eggs,bacon):\n",
    "    eggs = eggs.upper()\n",
    "    bacon = bacon.upper()\n",
    "    assert eggs != bacon , 'error eggs and bacon strigs cannot be same'\n",
    "\n",
    "assert_error('&#39;goodbye&#39;','&#39;GOODbye&#39;')"
   ]
  },
  {
   "cell_type": "code",
   "execution_count": null,
   "id": "bcd648e9",
   "metadata": {},
   "outputs": [],
   "source": [
    "3. Create an assert statement that throws an AssertionError every time."
   ]
  },
  {
   "cell_type": "code",
   "execution_count": 12,
   "id": "3b3421d2",
   "metadata": {},
   "outputs": [
    {
     "ename": "AssertionError",
     "evalue": " eror spam = no",
     "output_type": "error",
     "traceback": [
      "\u001b[1;31m---------------------------------------------------------------------------\u001b[0m",
      "\u001b[1;31mAssertionError\u001b[0m                            Traceback (most recent call last)",
      "Input \u001b[1;32mIn [12]\u001b[0m, in \u001b[0;36m<cell line: 2>\u001b[1;34m()\u001b[0m\n\u001b[0;32m      1\u001b[0m sapm \u001b[38;5;241m=\u001b[39m \u001b[38;5;124m'\u001b[39m\u001b[38;5;124myes\u001b[39m\u001b[38;5;124m'\u001b[39m\n\u001b[1;32m----> 2\u001b[0m \u001b[38;5;28;01massert\u001b[39;00m spam \u001b[38;5;241m==\u001b[39m \u001b[38;5;124m'\u001b[39m\u001b[38;5;124mno\u001b[39m\u001b[38;5;124m'\u001b[39m, \u001b[38;5;124m'\u001b[39m\u001b[38;5;124m eror spam = no\u001b[39m\u001b[38;5;124m'\u001b[39m\n",
      "\u001b[1;31mAssertionError\u001b[0m:  eror spam = no"
     ]
    }
   ],
   "source": [
    "sapm = 'yes'\n",
    "assert spam == 'no', ' eror spam = no'\n"
   ]
  },
  {
   "cell_type": "code",
   "execution_count": null,
   "id": "d099da54",
   "metadata": {},
   "outputs": [],
   "source": [
    "4. What are the two lines that must be present in your software in order to call logging.debug()?"
   ]
  },
  {
   "cell_type": "code",
   "execution_count": null,
   "id": "9b564aa3",
   "metadata": {},
   "outputs": [],
   "source": [
    "import logging\n",
    "logging.basicConfig(filename = 'assignment.txt',level=logging.DEBUG, format=' %(asctime)s - %(levelname)s - %(message)s')"
   ]
  },
  {
   "cell_type": "code",
   "execution_count": null,
   "id": "f430f325",
   "metadata": {},
   "outputs": [],
   "source": [
    "5. What are the two lines that your program must have in order to have logging.debug() send a\n",
    "logging message to a file named programLog.txt?"
   ]
  },
  {
   "cell_type": "code",
   "execution_count": null,
   "id": "68b97aa6",
   "metadata": {},
   "outputs": [],
   "source": [
    "import logging\n",
    "logging.basicConfig(filename = 'programLog.txt',level =logging.DEBUG ,format ='%(asctime)s - %(levelname)s - %(message)s')\n"
   ]
  },
  {
   "cell_type": "code",
   "execution_count": null,
   "id": "c1e4ce95",
   "metadata": {},
   "outputs": [],
   "source": [
    "6. What are the five levels of logging?"
   ]
  },
  {
   "cell_type": "code",
   "execution_count": null,
   "id": "5c582c0f",
   "metadata": {},
   "outputs": [],
   "source": [
    "TRACE.\n",
    "DEBUG.\n",
    "INFO.\n",
    "WARN.\n",
    "ERROR.\n",
    "FATAL."
   ]
  },
  {
   "cell_type": "code",
   "execution_count": null,
   "id": "06ee2d76",
   "metadata": {},
   "outputs": [],
   "source": [
    "7. What line of code would you add to your software to disable all logging messages?"
   ]
  },
  {
   "cell_type": "code",
   "execution_count": null,
   "id": "0bb278d1",
   "metadata": {},
   "outputs": [],
   "source": [
    "logging.disable = True, This will disable all logging messages"
   ]
  },
  {
   "cell_type": "code",
   "execution_count": null,
   "id": "1db08326",
   "metadata": {},
   "outputs": [],
   "source": [
    "8.Why is using logging messages better than using print() to display the same message?"
   ]
  },
  {
   "cell_type": "code",
   "execution_count": null,
   "id": "76d38775",
   "metadata": {},
   "outputs": [],
   "source": [
    "The advantage of using logging message to print rather than using print , is the ability to format the\n",
    "message as per the requirment for eg you can log the date and time in logging message and the required message"
   ]
  },
  {
   "cell_type": "code",
   "execution_count": null,
   "id": "9a6a24c2",
   "metadata": {},
   "outputs": [],
   "source": [
    "9. What are the differences between the Step Over, Step In, and Step Out buttons in the debugger?"
   ]
  },
  {
   "cell_type": "code",
   "execution_count": null,
   "id": "447b3660",
   "metadata": {},
   "outputs": [],
   "source": [
    "Step in - Step In button will cause the debugger to execute the next line of code and then pause again.\n",
    "Step Over - Step Over button will execute the next line of code, similar to the Step In button. However, if the next line of code is a function call, the Step Over button will “step over” the code in the function. The function’s code will be executed at full speed, and the debugger will pause as soon as the function call returns.\n",
    "Step out - Step Out button will cause the debugger to execute lines of code at full speed until it returns from the current function."
   ]
  },
  {
   "cell_type": "code",
   "execution_count": null,
   "id": "919bb56c",
   "metadata": {},
   "outputs": [],
   "source": [
    "10.After you click Continue, when will the debugger stop ?"
   ]
  },
  {
   "cell_type": "code",
   "execution_count": null,
   "id": "66db44b0",
   "metadata": {},
   "outputs": [],
   "source": [
    "The program will continue until the breakpoint is encountered"
   ]
  },
  {
   "cell_type": "code",
   "execution_count": null,
   "id": "6524093b",
   "metadata": {},
   "outputs": [],
   "source": [
    "11. What is the concept of a breakpoint?"
   ]
  },
  {
   "cell_type": "code",
   "execution_count": null,
   "id": "f2744053",
   "metadata": {},
   "outputs": [],
   "source": [
    "Breakpoint is a line that when encountered intentionally stops or pauses the program , used in debugging purposes"
   ]
  }
 ],
 "metadata": {
  "kernelspec": {
   "display_name": "Python 3 (ipykernel)",
   "language": "python",
   "name": "python3"
  },
  "language_info": {
   "codemirror_mode": {
    "name": "ipython",
    "version": 3
   },
   "file_extension": ".py",
   "mimetype": "text/x-python",
   "name": "python",
   "nbconvert_exporter": "python",
   "pygments_lexer": "ipython3",
   "version": "3.9.12"
  }
 },
 "nbformat": 4,
 "nbformat_minor": 5
}
