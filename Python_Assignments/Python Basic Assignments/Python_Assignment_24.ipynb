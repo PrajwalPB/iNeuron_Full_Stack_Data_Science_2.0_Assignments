{
 "cells": [
  {
   "cell_type": "markdown",
   "id": "3774e0cf",
   "metadata": {},
   "source": [
    "1. What is the relationship between def statements and lambda expressions ?"
   ]
  },
  {
   "cell_type": "markdown",
   "id": "9e622fd9",
   "metadata": {},
   "source": [
    "Both def and lambda create the same kind of functionThe def statement is used to define a function where you can give any name to a function , whereas the lambda expression are nameless function aslo called anonymous function .The lambda expression return a object while def function does not explicitly return any object unless a return type is defined"
   ]
  },
  {
   "cell_type": "markdown",
   "id": "0e881e28",
   "metadata": {},
   "source": [
    "2. What is the benefit of lambda?"
   ]
  },
  {
   "cell_type": "markdown",
   "id": "8034fee8",
   "metadata": {},
   "source": [
    "The lambda let's you define a function in a sinlge line of code  and use it immediately. They are consice and easy to read\n",
    "it reduces the amount code to write a function"
   ]
  },
  {
   "cell_type": "markdown",
   "id": "5a7c7566",
   "metadata": {},
   "source": [
    "3. Compare and contrast map, filter, and reduce."
   ]
  },
  {
   "cell_type": "markdown",
   "id": "1fd99a46",
   "metadata": {},
   "source": [
    "1.The map() function iterates through all items in the given iterable and executes the function we passed as an \n",
    "argument on each of them.\n",
    "2.The filter() takes a function object and an iterable and creates a new list.filter() forms a new list that contains \n",
    "only elements that satisfy a certain condition\n",
    "3.The reduce() works differently than map() and filter(). It does not return a new list based on the function and iterable \n",
    "we've passed. Instead, it returns a single value."
   ]
  },
  {
   "cell_type": "markdown",
   "id": "8eaa5a0b",
   "metadata": {},
   "source": [
    "4. What are function annotations, and how are they used?"
   ]
  },
  {
   "cell_type": "markdown",
   "id": "ee0bf7c2",
   "metadata": {},
   "source": [
    "Function annotations are nothing more than a way of associating arbitrary Python expressions with various parts \n",
    "of a function at compile-time"
   ]
  },
  {
   "cell_type": "markdown",
   "id": "5a9bf4e7",
   "metadata": {},
   "source": [
    "5. What are recursive functions, and how are they used?"
   ]
  },
  {
   "cell_type": "code",
   "execution_count": null,
   "id": "71c0bb2b",
   "metadata": {},
   "outputs": [],
   "source": [
    "Recursion is a technique when a function call itself unless the desired result is achieved\n",
    "Recursive Function is a function that repeats or uses its own previous term to calculate subsequent\n",
    "terms and thus forms a sequence of terms."
   ]
  },
  {
   "cell_type": "code",
   "execution_count": 16,
   "id": "f73b0afb",
   "metadata": {},
   "outputs": [
    {
     "name": "stdout",
     "output_type": "stream",
     "text": [
      "9 * * * * * * * * *\n",
      "7 * * * * * * *\n",
      "5 * * * * *\n",
      "3 * * *\n",
      "1 *\n",
      "Zero\n"
     ]
    }
   ],
   "source": [
    "#recursion example\n",
    "def print_stars(num):\n",
    "    if num<=0:\n",
    "        print(\"Zero\")\n",
    "        return\n",
    "    else:\n",
    "        l1=[]\n",
    "        for i in range(0,num):\n",
    "            l1+=\"*\"\n",
    "        print(num, ' '.join(l1))\n",
    "        print_stars(num-2)\n",
    "\n",
    "print_stars(9)"
   ]
  },
  {
   "cell_type": "markdown",
   "id": "012c0195",
   "metadata": {},
   "source": [
    "6. What are some general design guidelines for coding functions?"
   ]
  },
  {
   "cell_type": "markdown",
   "id": "ab709283",
   "metadata": {},
   "source": [
    "Use a tab for indentation. \n",
    "Pythons' default UTF-8 or ASCII encoding. \n",
    "Using docstrings. \n",
    "Don't write more than 79 characters in a line.\n",
    "Using spaces. \n",
    "Naming Variables, Constants, Classes and Functions."
   ]
  },
  {
   "cell_type": "markdown",
   "id": "6ad331b1",
   "metadata": {},
   "source": [
    "7. Name three or more ways that functions can communicate results to a caller."
   ]
  },
  {
   "cell_type": "code",
   "execution_count": 17,
   "id": "0c0dd2f3",
   "metadata": {},
   "outputs": [
    {
     "name": "stdout",
     "output_type": "stream",
     "text": [
      "Enter the num1\n",
      "12\n",
      "Enter the num2\n",
      "13\n",
      "Result is 25\n"
     ]
    }
   ],
   "source": [
    "#Case 1.Function with no arguments and no return value\n",
    "def add():\n",
    "    n1=int(input('Enter the num1\\n'))\n",
    "    n2=int(input('Enter the num2\\n'))\n",
    "    n3 = n1+n2\n",
    "    print(f'Result is {n3}')\n",
    "def start():\n",
    "    add()\n",
    "start()"
   ]
  },
  {
   "cell_type": "code",
   "execution_count": 18,
   "id": "17bd91a9",
   "metadata": {},
   "outputs": [
    {
     "name": "stdout",
     "output_type": "stream",
     "text": [
      "Enter the num1\n",
      "22\n",
      "Enter the num2\n",
      "33\n",
      "Result is 55\n"
     ]
    }
   ],
   "source": [
    "#Case 2.Function with arguments and no return value\n",
    "def add(n1,n2):\n",
    "    n3 = n1+n2\n",
    "    print(f'Result is {n3}')\n",
    "def start():\n",
    "    n1=int(input('Enter the num1\\n'))\n",
    "    n2=int(input('Enter the num2\\n'))\n",
    "    add(n1,n2)\n",
    "start()\n",
    "    "
   ]
  },
  {
   "cell_type": "code",
   "execution_count": 21,
   "id": "88d335c6",
   "metadata": {},
   "outputs": [
    {
     "name": "stdout",
     "output_type": "stream",
     "text": [
      "Enter the num1\n",
      "55\n",
      "Enter the num2\n",
      "23\n",
      "Result is 78\n"
     ]
    }
   ],
   "source": [
    "#Case 3.Function with arguments and with return value\n",
    "def add(n1,n2):\n",
    "    n3 = n1+n2\n",
    "    return n3\n",
    "def start():\n",
    "    n1=int(input('Enter the num1\\n'))\n",
    "    n2=int(input('Enter the num2\\n'))\n",
    "    n3 = add(n1,n2)\n",
    "    print(f'Result is {n3}')\n",
    "start()"
   ]
  },
  {
   "cell_type": "code",
   "execution_count": 24,
   "id": "a2682918",
   "metadata": {},
   "outputs": [
    {
     "name": "stdout",
     "output_type": "stream",
     "text": [
      "Enter the num1\n",
      "2\n",
      "Enter the num2\n",
      "2\n",
      "result is 4\n"
     ]
    }
   ],
   "source": [
    "#Case 4.Function with no arguments but with return value\n",
    "def add():\n",
    "    n1=int(input('Enter the num1\\n'))\n",
    "    n2=int(input('Enter the num2\\n'))\n",
    "    n3 = n1+n2\n",
    "    return n3\n",
    "def start():\n",
    "    n3 = add()\n",
    "    print(f\"result is {n3}\")\n",
    "start()"
   ]
  },
  {
   "cell_type": "code",
   "execution_count": null,
   "id": "2daad274",
   "metadata": {},
   "outputs": [],
   "source": []
  }
 ],
 "metadata": {
  "kernelspec": {
   "display_name": "Python 3 (ipykernel)",
   "language": "python",
   "name": "python3"
  },
  "language_info": {
   "codemirror_mode": {
    "name": "ipython",
    "version": 3
   },
   "file_extension": ".py",
   "mimetype": "text/x-python",
   "name": "python",
   "nbconvert_exporter": "python",
   "pygments_lexer": "ipython3",
   "version": "3.9.13"
  }
 },
 "nbformat": 4,
 "nbformat_minor": 5
}
