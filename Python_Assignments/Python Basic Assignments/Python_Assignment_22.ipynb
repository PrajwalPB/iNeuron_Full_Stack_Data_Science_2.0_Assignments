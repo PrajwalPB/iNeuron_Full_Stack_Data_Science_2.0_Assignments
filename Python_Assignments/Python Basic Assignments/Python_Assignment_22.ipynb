{
 "cells": [
  {
   "cell_type": "markdown",
   "id": "5aed7f8a",
   "metadata": {},
   "source": [
    "1. What is the result of the code, and explain?\n",
    "\n",
    "&gt;&gt;&gt; X = &#39;iNeuron&#39;\n",
    "&gt;&gt;&gt; def func():\n",
    "print(X)\n",
    "\n",
    "\n"
   ]
  },
  {
   "cell_type": "code",
   "execution_count": 1,
   "id": "6bb147ab",
   "metadata": {},
   "outputs": [
    {
     "name": "stdout",
     "output_type": "stream",
     "text": [
      "iNeuron\n"
     ]
    }
   ],
   "source": [
    "X = 'iNeuron'\n",
    "def func():\n",
    "    print(X)\n",
    "func()"
   ]
  },
  {
   "cell_type": "markdown",
   "id": "37425eb9",
   "metadata": {},
   "source": [
    "Here we yave assigned x a string and here x is declared outside the function its a global variable\n",
    "so it will be visible outside the function and any function can use it"
   ]
  },
  {
   "cell_type": "markdown",
   "id": "0c5b32b1",
   "metadata": {},
   "source": [
    "2.What is the result of the code, and explain?\n",
    ">>> X = 'iNeuron' >>> def func(): X = 'NI!'"
   ]
  },
  {
   "cell_type": "code",
   "execution_count": 4,
   "id": "e394647a",
   "metadata": {},
   "outputs": [
    {
     "name": "stdout",
     "output_type": "stream",
     "text": [
      "iNeuron\n"
     ]
    }
   ],
   "source": [
    "X = 'iNeuron'\n",
    "def func():\n",
    "    X = 'NI!'\n",
    "func()\n",
    "print(X)"
   ]
  },
  {
   "cell_type": "markdown",
   "id": "89b628a9",
   "metadata": {},
   "source": [
    "Here x is global variable which is assigned string as iNeuron , in the function the value of x is changed to 'NI!'\n",
    "but when we print outside the function the the value of x is Ineuron because the changes of x is restriced to function only\n",
    "its not reflected outside the function the scope of variable is restricted to function only"
   ]
  },
  {
   "cell_type": "markdown",
   "id": "e717796a",
   "metadata": {},
   "source": [
    "3.What does this code print, and why?\n",
    ">>> X = 'iNeuron' >>> def func(): X = 'NI' print(X)\n",
    "\n",
    ">>> func() >>> print(X)"
   ]
  },
  {
   "cell_type": "code",
   "execution_count": 5,
   "id": "c8d86b6b",
   "metadata": {},
   "outputs": [
    {
     "name": "stdout",
     "output_type": "stream",
     "text": [
      "NI\n",
      "iNeuron\n"
     ]
    }
   ],
   "source": [
    "X = 'iNeuron'\n",
    "def func():\n",
    "    X = 'NI'\n",
    "    print(X)\n",
    "func()\n",
    "print(X)"
   ]
  },
  {
   "cell_type": "markdown",
   "id": "e34e95d7",
   "metadata": {},
   "source": [
    "Same explanation as above the scope of variable is restriceted to function only beacuse the X value is changed inside the \n",
    "function that is why the when we print statement is inside the function its value is 'NI' and outsie its is ineuron"
   ]
  },
  {
   "cell_type": "markdown",
   "id": "dc033617",
   "metadata": {},
   "source": [
    "4.What output does this code produce? Why?\n",
    ">>> X = 'iNeuron' >>> def func(): global X X = 'NI'\n",
    "\n",
    ">>> func() >>> print(X)"
   ]
  },
  {
   "cell_type": "code",
   "execution_count": 8,
   "id": "e3e0be57",
   "metadata": {},
   "outputs": [
    {
     "name": "stdout",
     "output_type": "stream",
     "text": [
      "NI\n"
     ]
    }
   ],
   "source": [
    "X = 'iNeuron'\n",
    "def func():\n",
    "    global X \n",
    "    X = 'NI'\n",
    "func()\n",
    "print(X)\n"
   ]
  },
  {
   "cell_type": "markdown",
   "id": "2791b446",
   "metadata": {},
   "source": [
    "Here inside the function X is declared global using global keyword.Global keyword is used when \n",
    "we want to read or write any global variable value inside the function"
   ]
  },
  {
   "cell_type": "markdown",
   "id": "76662595",
   "metadata": {},
   "source": [
    "5.What about this code—what’s the output, and why?\n",
    ">>> X = 'iNeuron' >>> def func(): X = 'NI' def nested(): print(X) nested()\n",
    "\n",
    ">>> func() >>> X"
   ]
  },
  {
   "cell_type": "code",
   "execution_count": 13,
   "id": "cf3115ac",
   "metadata": {},
   "outputs": [
    {
     "name": "stdout",
     "output_type": "stream",
     "text": [
      "NI\n"
     ]
    },
    {
     "data": {
      "text/plain": [
       "'iNeuron'"
      ]
     },
     "execution_count": 13,
     "metadata": {},
     "output_type": "execute_result"
    }
   ],
   "source": [
    "X = 'iNeuron'\n",
    "def func():\n",
    "    X = 'NI'\n",
    "    def nested():\n",
    "        print(X)\n",
    "    nested()\n",
    "func()\n",
    "X\n",
    "\n",
    "    "
   ]
  },
  {
   "cell_type": "markdown",
   "id": "70af18b0",
   "metadata": {},
   "source": [
    "In the above example there is a nested function named as 'nested' .The function is defined in the scope of another function\n",
    "func() the value of local variable X = 'NI' will be same for the nested function"
   ]
  },
  {
   "cell_type": "code",
   "execution_count": 14,
   "id": "92f84421",
   "metadata": {},
   "outputs": [
    {
     "name": "stdout",
     "output_type": "stream",
     "text": [
      "iNeuron\n"
     ]
    },
    {
     "data": {
      "text/plain": [
       "'iNeuron'"
      ]
     },
     "execution_count": 14,
     "metadata": {},
     "output_type": "execute_result"
    }
   ],
   "source": [
    "X = 'iNeuron'\n",
    "def func():\n",
    "    X = 'NI'\n",
    "    def nested():\n",
    "        nonlocal X\n",
    "        X = 'iNeuron'\n",
    "        print(X)\n",
    "    nested()\n",
    "func()\n",
    "X\n"
   ]
  },
  {
   "cell_type": "markdown",
   "id": "e3da7adf",
   "metadata": {},
   "source": [
    "In such nested case we can alo use nonlocal .In Python, nonlocal variables are used in nested functions whose local scope \n",
    "is not defined. This means that the variable can be neither in the local nor the global scope."
   ]
  },
  {
   "cell_type": "markdown",
   "id": "33d3ced1",
   "metadata": {},
   "source": [
    "6. How about this code: what is its output in Python 3, and explain?\n",
    "\n",
    "&gt;&gt;&gt; def func():\n",
    "X = &#39;NI&#39;\n",
    "def nested():\n",
    "nonlocal X\n",
    "X = &#39;Spam&#39;\n",
    "nested()\n",
    "print(X)\n",
    "\n",
    "&gt;&gt;&gt; func()"
   ]
  },
  {
   "cell_type": "code",
   "execution_count": 17,
   "id": "caec29b4",
   "metadata": {},
   "outputs": [
    {
     "name": "stdout",
     "output_type": "stream",
     "text": [
      "Spam\n"
     ]
    }
   ],
   "source": [
    "def func():\n",
    "    X = 'NI'\n",
    "    def nested():\n",
    "        nonlocal X\n",
    "        X = 'Spam'\n",
    "    nested()\n",
    "    print(X)\n",
    "func()"
   ]
  },
  {
   "cell_type": "markdown",
   "id": "51630804",
   "metadata": {},
   "source": [
    "In such nested case we can alo use nonlocal .In Python, nonlocal variables are used in nested functions whose local scope \n",
    "is not defined. This means that the variable can be neither in the local nor the global scope."
   ]
  },
  {
   "cell_type": "code",
   "execution_count": null,
   "id": "4050ceb0",
   "metadata": {},
   "outputs": [],
   "source": []
  }
 ],
 "metadata": {
  "kernelspec": {
   "display_name": "Python 3 (ipykernel)",
   "language": "python",
   "name": "python3"
  },
  "language_info": {
   "codemirror_mode": {
    "name": "ipython",
    "version": 3
   },
   "file_extension": ".py",
   "mimetype": "text/x-python",
   "name": "python",
   "nbconvert_exporter": "python",
   "pygments_lexer": "ipython3",
   "version": "3.9.13"
  }
 },
 "nbformat": 4,
 "nbformat_minor": 5
}
