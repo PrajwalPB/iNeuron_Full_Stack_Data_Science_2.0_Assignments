{
 "cells": [
  {
   "cell_type": "markdown",
   "id": "e85dbab5",
   "metadata": {},
   "source": [
    "1. What is the result of the code, and why?\n",
    "&gt;&gt;&gt; def func(a, b=6, c=8):\n",
    "print(a, b, c)\n",
    "&gt;&gt;&gt; func(1, 2)"
   ]
  },
  {
   "cell_type": "code",
   "execution_count": 5,
   "id": "a4643d23",
   "metadata": {},
   "outputs": [
    {
     "name": "stdout",
     "output_type": "stream",
     "text": [
      "1 2 8\n"
     ]
    }
   ],
   "source": [
    "def func(a, b=6, c=8): \n",
    "    print(a, b, c) \n",
    "func(1,2)\n"
   ]
  },
  {
   "cell_type": "markdown",
   "id": "81496e6f",
   "metadata": {},
   "source": [
    "The result is 1,2,8 when 1 and 2 is passed , The function can take one positional argument ie a ,\n",
    "but we are passing the value of b also so it will take the new value of b as 2 rather than 6"
   ]
  },
  {
   "cell_type": "markdown",
   "id": "7b2ab19b",
   "metadata": {},
   "source": [
    "2.What is the result of this code, and why? >>> def func(a, b, c=5): print(a, b, c) >>> func(1, c=3, b=2)"
   ]
  },
  {
   "cell_type": "code",
   "execution_count": 6,
   "id": "37e344b9",
   "metadata": {},
   "outputs": [
    {
     "name": "stdout",
     "output_type": "stream",
     "text": [
      "1 2 3\n"
     ]
    }
   ],
   "source": [
    "def func(a, b, c=5):\n",
    "        print(a, b, c)\n",
    "func(1, c=3, b=2)"
   ]
  },
  {
   "cell_type": "markdown",
   "id": "629f1536",
   "metadata": {},
   "source": [
    "The result is 1 2 3 because the value of a,b,c is passed to the function , the function will only take its default value \n",
    "when the argument is not passed and also the argument order is ignored when the function call is made with the agrument specifying the values"
   ]
  },
  {
   "cell_type": "markdown",
   "id": "d630e5ce",
   "metadata": {},
   "source": [
    "3.How about this code: what is its result, and why? >>> def func(a, *pargs): print(a, pargs) >>> func(1, 2, 3)"
   ]
  },
  {
   "cell_type": "code",
   "execution_count": 7,
   "id": "8a62f6af",
   "metadata": {},
   "outputs": [
    {
     "name": "stdout",
     "output_type": "stream",
     "text": [
      "1 (2, 3)\n"
     ]
    }
   ],
   "source": [
    "def func(a, *pargs):\n",
    "    print(a, pargs) \n",
    "func(1, 2, 3)"
   ]
  },
  {
   "cell_type": "markdown",
   "id": "4fb78c52",
   "metadata": {},
   "source": [
    "The result of above execution is 1 (2, 3) ,*pargs in a function is used to  pass variable number of arguments,\n",
    "when you don't know how many values you are going to pass while function calling , the values are stored in a tupple\n",
    "also the name can of the *pargs can be any name"
   ]
  },
  {
   "cell_type": "markdown",
   "id": "3b05c48c",
   "metadata": {},
   "source": [
    "4.What does this code print, and why? >>> def func(a, **kargs): print(a, kargs) >>> func(a=1, c=3, b=2)"
   ]
  },
  {
   "cell_type": "code",
   "execution_count": 11,
   "id": "8301f4e4",
   "metadata": {},
   "outputs": [
    {
     "name": "stdout",
     "output_type": "stream",
     "text": [
      "1 {'c': 3, 'b': 2}\n"
     ]
    }
   ],
   "source": [
    "def func(a, **kargs):\n",
    "    print(a, kargs)\n",
    "func(a=1 ,c=3, b=2)"
   ]
  },
  {
   "cell_type": "markdown",
   "id": "8cd519a2",
   "metadata": {},
   "source": [
    "The result of above execution is 1 {'c': 3, 'b': 2} , The **kargs it means variable length keyword arguments , it allows us to pass\n",
    "variable length of keywords args to a function it is used when want to pass key value input to a function"
   ]
  },
  {
   "cell_type": "markdown",
   "id": "8d735c3d",
   "metadata": {},
   "source": [
    "5.What gets printed by this, and explain? >>> def func(a, b, c=8, d=5): print(a, b, c, d) >>> func(1, *(5, 6))"
   ]
  },
  {
   "cell_type": "code",
   "execution_count": 13,
   "id": "ae7d3131",
   "metadata": {},
   "outputs": [
    {
     "name": "stdout",
     "output_type": "stream",
     "text": [
      "1 5 6 5\n"
     ]
    }
   ],
   "source": [
    "def func(a, b, c=8, d=5):\n",
    "     print(a, b, c, d)\n",
    "func(1, *(5, 6))"
   ]
  },
  {
   "cell_type": "markdown",
   "id": "3e5ec223",
   "metadata": {},
   "source": [
    "The output of above execution is 1 5 6 5 , The values of a is provided , the function will take values of b as 5 and c as 6 \n",
    "as the value of c is passed while function calling , the value of d is 5 "
   ]
  },
  {
   "cell_type": "markdown",
   "id": "95cc06fa",
   "metadata": {},
   "source": [
    "6.what is the result of this, and explain? >>> def func(a, b, c): a = 2; b[0] = 'x'; c['a'] = 'y' >>> l=1; m=[1]; n={'a':0} >>> func(l, m, n)>>>l, m, n"
   ]
  },
  {
   "cell_type": "code",
   "execution_count": 17,
   "id": "f0f60249",
   "metadata": {},
   "outputs": [
    {
     "data": {
      "text/plain": [
       "(1, ['x'], {'a': 'y'})"
      ]
     },
     "execution_count": 17,
     "metadata": {},
     "output_type": "execute_result"
    }
   ],
   "source": [
    "def func(a, b, c):a = 2; b[0] = 'x'; c['a'] = 'y'\n",
    "l=1; m=[1]; n={'a':0}\n",
    "func(l, m, n)\n",
    "l,m,n"
   ]
  },
  {
   "cell_type": "markdown",
   "id": "ce07ff39",
   "metadata": {},
   "source": [
    "Here when the values of l,m,n are passed it modifies the values as a = 1, b = ['x'] and c = {'a':'y'}"
   ]
  },
  {
   "cell_type": "code",
   "execution_count": null,
   "id": "2b3a2e21",
   "metadata": {},
   "outputs": [],
   "source": []
  }
 ],
 "metadata": {
  "kernelspec": {
   "display_name": "Python 3 (ipykernel)",
   "language": "python",
   "name": "python3"
  },
  "language_info": {
   "codemirror_mode": {
    "name": "ipython",
    "version": 3
   },
   "file_extension": ".py",
   "mimetype": "text/x-python",
   "name": "python",
   "nbconvert_exporter": "python",
   "pygments_lexer": "ipython3",
   "version": "3.9.13"
  }
 },
 "nbformat": 4,
 "nbformat_minor": 5
}
