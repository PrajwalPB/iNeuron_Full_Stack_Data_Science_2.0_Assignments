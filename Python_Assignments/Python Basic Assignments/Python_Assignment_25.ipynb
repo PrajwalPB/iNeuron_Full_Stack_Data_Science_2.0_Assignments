{
 "cells": [
  {
   "cell_type": "markdown",
   "id": "004c9c9a",
   "metadata": {},
   "source": [
    "1) . What is the difference between enclosing a list comprehension in square brackets and\n",
    "parentheses?"
   ]
  },
  {
   "cell_type": "markdown",
   "id": "f2d80652",
   "metadata": {},
   "source": [
    "The difference is that a generator is defined using parentheses, while list comprehensions \n",
    "are defined using square brackets."
   ]
  },
  {
   "cell_type": "markdown",
   "id": "7521e34f",
   "metadata": {},
   "source": [
    "2) What is the relationship between generators and iterators?"
   ]
  },
  {
   "cell_type": "markdown",
   "id": "c9349804",
   "metadata": {},
   "source": [
    "iterators are objects that can be iterated on .Iterators are the objects that use\n",
    "the next()method to get the next value of the sequence. \n",
    "A generator is a function that produces or yields a sequence of values using a yield statement"
   ]
  },
  {
   "cell_type": "markdown",
   "id": "a9c0e610",
   "metadata": {},
   "source": [
    "3) What are the signs that a function is a generator function?"
   ]
  },
  {
   "cell_type": "markdown",
   "id": "87fa665f",
   "metadata": {},
   "source": [
    "A generator function includes one or more yield statements."
   ]
  },
  {
   "cell_type": "markdown",
   "id": "187742ff",
   "metadata": {},
   "source": [
    "4) What is the purpose of a yield statement?"
   ]
  },
  {
   "cell_type": "markdown",
   "id": "74a5feef",
   "metadata": {},
   "source": [
    "The yield statement returns a generator object to the one who calls the function which contains yield, instead of simply returning a value."
   ]
  },
  {
   "cell_type": "markdown",
   "id": "9a1a8abe",
   "metadata": {},
   "source": [
    "5) What is the relationship between map calls and list comprehensions? Make a comparison and\n",
    "contrast between the two."
   ]
  },
  {
   "cell_type": "markdown",
   "id": "4a7e4eb7",
   "metadata": {},
   "source": [
    "List comprehension returns a list, whereas the map function returns an object of Iterable."
   ]
  }
 ],
 "metadata": {
  "kernelspec": {
   "display_name": "Python 3 (ipykernel)",
   "language": "python",
   "name": "python3"
  },
  "language_info": {
   "codemirror_mode": {
    "name": "ipython",
    "version": 3
   },
   "file_extension": ".py",
   "mimetype": "text/x-python",
   "name": "python",
   "nbconvert_exporter": "python",
   "pygments_lexer": "ipython3",
   "version": "3.9.13"
  }
 },
 "nbformat": 4,
 "nbformat_minor": 5
}
