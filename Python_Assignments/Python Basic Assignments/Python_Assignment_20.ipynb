{
 "cells": [
  {
   "cell_type": "markdown",
   "id": "486b2fa3",
   "metadata": {},
   "source": [
    "1. Set the variable test1 to the string &#39;This is a test of the emergency text system,&#39; and save test1 to a\n",
    "file named test.txt."
   ]
  },
  {
   "cell_type": "code",
   "execution_count": null,
   "id": "4b62b932",
   "metadata": {},
   "outputs": [],
   "source": [
    "test1 =  'This is a test of the emergency text system,'\n",
    "with open('test.txt','w') as f:\n",
    "    f.write(test1)"
   ]
  },
  {
   "cell_type": "code",
   "execution_count": 5,
   "id": "ef2d01cd",
   "metadata": {},
   "outputs": [
    {
     "name": "stdout",
     "output_type": "stream",
     "text": [
      "This is a test of the emergency text system,\n"
     ]
    }
   ],
   "source": [
    "with open('test.txt','r') as f1:\n",
    "    print(f1.read())"
   ]
  },
  {
   "cell_type": "markdown",
   "id": "f7251cc7",
   "metadata": {},
   "source": [
    "2. Read the contents of the file test.txt into the variable test2. Is there a difference between test 1\n",
    "and test 2?"
   ]
  },
  {
   "cell_type": "code",
   "execution_count": 6,
   "id": "a02a5cf8",
   "metadata": {},
   "outputs": [],
   "source": [
    "with open('test.txt','r') as f1:\n",
    "    test2 = f1.read()"
   ]
  },
  {
   "cell_type": "code",
   "execution_count": 7,
   "id": "88dec898",
   "metadata": {},
   "outputs": [
    {
     "name": "stdout",
     "output_type": "stream",
     "text": [
      "This is a test of the emergency text system,\n"
     ]
    }
   ],
   "source": [
    "print(test2)# There is no difference between the contents of test1 and test2"
   ]
  },
  {
   "cell_type": "markdown",
   "id": "a652564d",
   "metadata": {},
   "source": [
    "3. Create a CSV file called books.csv by using these lines:title,author,year\n",
    "The Weirdstone of Brisingamen,Alan Garner,1960\n",
    "Perdido Street Station,China Miéville,2000\n",
    "Thud!,Terry Pratchett,2005\n",
    "The Spellman Files,Lisa Lutz,2007"
   ]
  },
  {
   "cell_type": "code",
   "execution_count": 16,
   "id": "15506d4a",
   "metadata": {},
   "outputs": [
    {
     "name": "stdout",
     "output_type": "stream",
     "text": [
      "The Weirdstone of Brisingamen,Alan Garner,1960\n",
      "Perdido Street Station,China Mieville,2000\n",
      "Thud!,Terry Pratchett,2005\n",
      "The Spellman Files,Lisa Lutz,2007\n",
      "Small Gods,Terry Pratchett,1992\n",
      "\n"
     ]
    }
   ],
   "source": [
    "import csv\n",
    "data = [['The Weirdstone of Brisingamen','Alan Garner',1960],\n",
    "       ['Perdido Street Station','China Mieville',2000],\n",
    "       ['Thud!','Terry Pratchett',2005],\n",
    "       ['The Spellman Files','Lisa Lutz',2007],\n",
    "       ['Small Gods','Terry Pratchett',1992]]\n",
    "with open('books.csv','w',newline='') as c:\n",
    "    w = csv.writer(c)\n",
    "    w.writerows(data)\n",
    "with open('books.csv','r') as b:\n",
    "    print(b.read())"
   ]
  },
  {
   "cell_type": "markdown",
   "id": "4043d289",
   "metadata": {},
   "source": [
    "4. Use the sqlite3 module to create a SQLite database called books.db, and a table called books with\n",
    "these fields: title (text), author (text), and year (integer).\n"
   ]
  },
  {
   "cell_type": "code",
   "execution_count": 17,
   "id": "03f839f5",
   "metadata": {},
   "outputs": [],
   "source": [
    "import sqlite3"
   ]
  },
  {
   "cell_type": "code",
   "execution_count": 18,
   "id": "73ed197d",
   "metadata": {},
   "outputs": [],
   "source": [
    "db = sqlite3.connect(\"books.db\")"
   ]
  },
  {
   "cell_type": "code",
   "execution_count": 19,
   "id": "dddb41bc",
   "metadata": {},
   "outputs": [],
   "source": [
    "c = db.cursor()"
   ]
  },
  {
   "cell_type": "code",
   "execution_count": 20,
   "id": "71b5568a",
   "metadata": {},
   "outputs": [
    {
     "data": {
      "text/plain": [
       "<sqlite3.Cursor at 0x12aa88d8810>"
      ]
     },
     "execution_count": 20,
     "metadata": {},
     "output_type": "execute_result"
    }
   ],
   "source": [
    "c.execute('create table books(title text ,author text, year real)')"
   ]
  },
  {
   "cell_type": "markdown",
   "id": "2c229fee",
   "metadata": {},
   "source": [
    "5.Read books.csv and insert its data into the book table."
   ]
  },
  {
   "cell_type": "code",
   "execution_count": 38,
   "id": "867cef2b",
   "metadata": {},
   "outputs": [
    {
     "name": "stdout",
     "output_type": "stream",
     "text": [
      "<_csv.reader object at 0x0000012AA8DEB0A0>\n"
     ]
    }
   ],
   "source": [
    "file = open('books.csv')\n",
    "contents = csv.reader(file)"
   ]
  },
  {
   "cell_type": "code",
   "execution_count": 39,
   "id": "d96877de",
   "metadata": {},
   "outputs": [
    {
     "data": {
      "text/plain": [
       "<sqlite3.Cursor at 0x12aa88d8810>"
      ]
     },
     "execution_count": 39,
     "metadata": {},
     "output_type": "execute_result"
    }
   ],
   "source": [
    "insert = \"insert into books (title,author,year) values(?,?,?)\"\n",
    "c.executemany(insert,contents)"
   ]
  },
  {
   "cell_type": "code",
   "execution_count": 41,
   "id": "bbca4e03",
   "metadata": {},
   "outputs": [
    {
     "name": "stdout",
     "output_type": "stream",
     "text": [
      "('The Weirdstone of Brisingamen', 'Alan Garner', 1960.0)\n",
      "('Perdido Street Station', 'China Mieville', 2000.0)\n",
      "('Thud!', 'Terry Pratchett', 2005.0)\n",
      "('The Spellman Files', 'Lisa Lutz', 2007.0)\n",
      "('Small Gods', 'Terry Pratchett', 1992.0)\n"
     ]
    }
   ],
   "source": [
    "r = c.execute('select * from books')\n",
    "for i in r:\n",
    "    print(i)"
   ]
  },
  {
   "cell_type": "markdown",
   "id": "a7606e0b",
   "metadata": {},
   "source": [
    "6.Select and print the title column from the book table in alphabetical order."
   ]
  },
  {
   "cell_type": "code",
   "execution_count": 50,
   "id": "102c1fe0",
   "metadata": {},
   "outputs": [
    {
     "data": {
      "text/plain": [
       "<sqlite3.Cursor at 0x12aa88d8810>"
      ]
     },
     "execution_count": 50,
     "metadata": {},
     "output_type": "execute_result"
    }
   ],
   "source": [
    "c.execute(' select title from books order by title asc')"
   ]
  },
  {
   "cell_type": "code",
   "execution_count": 51,
   "id": "55dcc0ca",
   "metadata": {},
   "outputs": [
    {
     "data": {
      "text/plain": [
       "[('Perdido Street Station',),\n",
       " ('Small Gods',),\n",
       " ('The Spellman Files',),\n",
       " ('The Weirdstone of Brisingamen',),\n",
       " ('Thud!',)]"
      ]
     },
     "execution_count": 51,
     "metadata": {},
     "output_type": "execute_result"
    }
   ],
   "source": [
    "c.fetchall()"
   ]
  },
  {
   "cell_type": "markdown",
   "id": "9d187d77",
   "metadata": {},
   "source": [
    "7.From the book table, select and print all columns in the order of publication."
   ]
  },
  {
   "cell_type": "code",
   "execution_count": 52,
   "id": "98d81c54",
   "metadata": {},
   "outputs": [
    {
     "data": {
      "text/plain": [
       "<sqlite3.Cursor at 0x12aa88d8810>"
      ]
     },
     "execution_count": 52,
     "metadata": {},
     "output_type": "execute_result"
    }
   ],
   "source": [
    "c.execute('select * from books order by year')"
   ]
  },
  {
   "cell_type": "code",
   "execution_count": 53,
   "id": "b5dd9f7d",
   "metadata": {},
   "outputs": [
    {
     "data": {
      "text/plain": [
       "[('The Weirdstone of Brisingamen', 'Alan Garner', 1960.0),\n",
       " ('Small Gods', 'Terry Pratchett', 1992.0),\n",
       " ('Perdido Street Station', 'China Mieville', 2000.0),\n",
       " ('Thud!', 'Terry Pratchett', 2005.0),\n",
       " ('The Spellman Files', 'Lisa Lutz', 2007.0)]"
      ]
     },
     "execution_count": 53,
     "metadata": {},
     "output_type": "execute_result"
    }
   ],
   "source": [
    "c.fetchall()"
   ]
  },
  {
   "cell_type": "markdown",
   "id": "9f9c99b5",
   "metadata": {},
   "source": [
    "8.Use the sqlalchemy module to connect to the sqlite3 database books.db that you just made in exercise 6."
   ]
  },
  {
   "cell_type": "code",
   "execution_count": 57,
   "id": "6fd93f93",
   "metadata": {},
   "outputs": [],
   "source": [
    "import sqlalchemy \n",
    "conn = sqlalchemy.create_engine('sqlite:///books.db')"
   ]
  },
  {
   "cell_type": "code",
   "execution_count": 58,
   "id": "569eb8a5",
   "metadata": {},
   "outputs": [
    {
     "data": {
      "text/plain": [
       "Engine(sqlite:///books.db)"
      ]
     },
     "execution_count": 58,
     "metadata": {},
     "output_type": "execute_result"
    }
   ],
   "source": [
    "conn"
   ]
  },
  {
   "cell_type": "markdown",
   "id": "fd48b1cb",
   "metadata": {},
   "source": [
    "9.Install the Redis server and the Python redis library (pip install redis) on your computer. Create a Redis hash called test with the fields count (1) and name ('Fester Bestertester'). Print all the fields for test."
   ]
  },
  {
   "cell_type": "code",
   "execution_count": 59,
   "id": "2f466b08",
   "metadata": {},
   "outputs": [
    {
     "name": "stdout",
     "output_type": "stream",
     "text": [
      "Collecting redis\n",
      "  Downloading redis-4.4.2-py3-none-any.whl (237 kB)\n",
      "     -------------------------------------- 237.8/237.8 kB 2.9 MB/s eta 0:00:00\n",
      "Collecting async-timeout>=4.0.2\n",
      "  Downloading async_timeout-4.0.2-py3-none-any.whl (5.8 kB)\n",
      "Installing collected packages: async-timeout, redis\n",
      "Successfully installed async-timeout-4.0.2 redis-4.4.2\n",
      "Note: you may need to restart the kernel to use updated packages.\n"
     ]
    }
   ],
   "source": [
    "pip install redis"
   ]
  },
  {
   "cell_type": "code",
   "execution_count": null,
   "id": "d509a7df",
   "metadata": {},
   "outputs": [],
   "source": [
    "import redis\n",
    "conn = redis.Redis()\n",
    "conn.hset('test',{'count':1,'name':'Fester Bestertester'})\n",
    "conn.hgetall('test')\n"
   ]
  },
  {
   "cell_type": "markdown",
   "id": "41f3b55b",
   "metadata": {},
   "source": [
    "10. Increment the count field of test and print it."
   ]
  },
  {
   "cell_type": "code",
   "execution_count": null,
   "id": "1be9a106",
   "metadata": {},
   "outputs": [],
   "source": [
    "conn.hincrby('test', 'count', 1)\n",
    "conn.hget('test', 'count')"
   ]
  },
  {
   "cell_type": "code",
   "execution_count": null,
   "id": "a8b1e02d",
   "metadata": {},
   "outputs": [],
   "source": []
  },
  {
   "cell_type": "code",
   "execution_count": null,
   "id": "bd4cdb7a",
   "metadata": {},
   "outputs": [],
   "source": []
  }
 ],
 "metadata": {
  "kernelspec": {
   "display_name": "Python 3 (ipykernel)",
   "language": "python",
   "name": "python3"
  },
  "language_info": {
   "codemirror_mode": {
    "name": "ipython",
    "version": 3
   },
   "file_extension": ".py",
   "mimetype": "text/x-python",
   "name": "python",
   "nbconvert_exporter": "python",
   "pygments_lexer": "ipython3",
   "version": "3.9.13"
  }
 },
 "nbformat": 4,
 "nbformat_minor": 5
}
